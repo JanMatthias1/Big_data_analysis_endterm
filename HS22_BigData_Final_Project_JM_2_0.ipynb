{
  "cells": [
    {
      "cell_type": "markdown",
      "metadata": {
        "id": "view-in-github",
        "colab_type": "text"
      },
      "source": [
        "<a href=\"https://colab.research.google.com/github/JanMatthias1/Big_data_analysis_endterm/blob/main/HS22_BigData_Final_Project_JM_2_0.ipynb\" target=\"_parent\"><img src=\"https://colab.research.google.com/assets/colab-badge.svg\" alt=\"Open In Colab\"/></a>"
      ]
    },
    {
      "cell_type": "markdown",
      "metadata": {
        "id": "Lwv6YR9ft6-6"
      },
      "source": [
        "# General Instructions"
      ]
    },
    {
      "cell_type": "markdown",
      "metadata": {
        "id": "B93PQOcZ2jlJ"
      },
      "source": [
        "**PLEASE DO NOT SHARE THE DATASETS and NOTEBOOK with other people!!!!**\n",
        "\n",
        "You have the option to analyze one of two datasets for the endterm and: \n",
        "\n",
        "*   Predict diabetes (current status or future onset) from clinical imaging data or molecular parameters; or\n",
        "*   Predict COVID death or intensive care unit (ICU) admission from lifestyle and clinical parameters.\n"
      ]
    },
    {
      "cell_type": "markdown",
      "metadata": {
        "id": "Lrxpptxj5yPS"
      },
      "source": [
        "\n",
        "## Required final project components\n",
        "### Part 1\n",
        "Describe the population with regards to the outcome you chose (e.g. comparison of age distribution for patients who died vs patients who didn't die, comparison of gender vs diabetes status, comparison ) with at least three plots, which are accurately labeled and interpreted. In this part, also consider pre-processing and describing your data with regards to the missing data.\n",
        "\n",
        "### Part 2\n",
        "#### For the COVID analysis\n",
        "The first COVID cases were discovered in Mexico on February 28th 2020. Using pd.to_datetime to convert the date of death into a datetime object, then using the deltatime object of time elapsed from the first COVID cases (pd.to_datetime('28.02.2020')) until death as the time to event, plot a Kaplan-Meier curve for the people who have died of COVID, subgrouped by any variable of your choosing (e.g. males vs females, younger/older than 65, with/without pneumonia, smokers yes/no).\n",
        "\n",
        "#### For the Diabetes analysis\n",
        "Use any clustering algorithm of your chosing to cluster the individuals in the dataset based on either clinical imaging or metabolomics data. \n",
        "Then choose the visualization method that you prefer to visualize the different clusters (variable 1 vs variable 2, diabetes vs age, PC1 vs PC2, tSNE, etc). \n",
        "\n",
        "### Part 3\n",
        "* Predict your outcome of interest according to 2 distinct machine learning methods that we have learnt.\n",
        "\n",
        "* For each prediction, show confusion plot of the train and test dataset and indicate:\n",
        "  1.  accuracy;\n",
        "  2.  precision;\n",
        "  3.  recall.\n",
        "\n",
        "* Interpret the results from each ML method, and comment how the predictions could be improved.\n",
        "\n",
        "\n",
        "**Examples**\n",
        "\n",
        "*Use Random Forest classifier and K-NN classifier to predict whether a patient will die of COVID.*\n",
        "\n",
        "or\n",
        "\n",
        "*Use Gradient Boosting classifier and logistic regression to predict with clinical imaging data (and patients info) whether someone currently has diabetes.*\n"
      ]
    },
    {
      "cell_type": "markdown",
      "metadata": {
        "id": "hnYCorfG_CvO"
      },
      "source": [
        "## Extra points (ordered from most to least rewarded) \n",
        "\n",
        "You can get extra points (in addition to the max points of the endterm) if you:\n",
        "\n",
        "* Run the analysis on Euler using the entire dataset (for that option you would also to upload your code as a .py file, the command used to run the script on Euler and the output of your code, i.e. the slurm file and any figure/table saved as part of your analysis).\n",
        "* Fine tune the methods parameters using GridSearchCV;\n",
        "* Show which covariate(s) contributes the most to the prediction (from one method is sufficient);\n",
        "* Plot the covariate(s) that contributes the most to the prediction as a function of the outcome.\n",
        "\n"
      ]
    },
    {
      "cell_type": "markdown",
      "metadata": {
        "id": "BLwahFfX_Fhe"
      },
      "source": [
        "## Analysis notes\n",
        "\n",
        "* Remember to drop NAs if necessary and standardize the data where relevant. \n",
        "\n",
        "* Some covariates might strongly correlate with each other. If so, show a representative plot and drop the rendundant ones.\n",
        "\n",
        "* This are a real-world datasets. It is normal that the predictions won't have very high accuracy/precision/recall.\n",
        "\n",
        "* Provide visualisation and interpretation of your results.\n",
        "\n",
        "\n"
      ]
    },
    {
      "cell_type": "markdown",
      "metadata": {
        "id": "7ktfXNUv_Grj"
      },
      "source": [
        "## Submission method\n",
        "\n",
        "Same as for the midterm. Please do not copy/paste from each other.\n",
        "\n"
      ]
    },
    {
      "cell_type": "markdown",
      "metadata": {
        "id": "wX26yfMs_IGY"
      },
      "source": [
        "\n",
        "## Deadline\n",
        "\n",
        "The deadline is in approximately one month and 10 days from now, on January 15th. If you need more time, let us know.\n"
      ]
    },
    {
      "cell_type": "markdown",
      "metadata": {
        "id": "GWBfEKdcsTte"
      },
      "source": [
        "\n",
        "# Dataset 1: COVID outcomes\n",
        "For this final project, you will work with real-world COVID patients data. \n",
        "\n",
        "You can decide on the outcome that you want to study:\n",
        "* whether a patient died;\n",
        "* whether a patient was admitted to the intensive care unit (ICU)\n",
        "\n",
        "You can decide on the dataset you want to use:\n",
        "* the reduced version (n = 100'000)\n",
        "* the entire dataset (n = 1'048'576) --> Euler becomes essential\n",
        "\n",
        "\n",
        "\n",
        "\n"
      ]
    },
    {
      "cell_type": "markdown",
      "metadata": {
        "id": "nW9SaCYVGR3R"
      },
      "source": [
        "## Dataset"
      ]
    },
    {
      "cell_type": "markdown",
      "metadata": {
        "id": "Ayu5O5E2Skn5"
      },
      "source": [
        "You can choose to use the subset we provide or the entire dataset that you can access from [Kaggle](https://www.kaggle.com/datasets/meirnizri/covid19-dataset)."
      ]
    },
    {
      "cell_type": "code",
      "execution_count": 1,
      "metadata": {
        "id": "gx257psu-l2a"
      },
      "outputs": [],
      "source": [
        "import pandas as pd\n",
        "import numpy as np\n",
        "\n",
        "url='https://drive.google.com/file/d/1Al7CF0jLX279YbBhhJfnFdA3rQ8Q7U8v/view?usp=sharing'\n",
        "url='https://drive.google.com/uc?id=' + url.split('/')[-2]\n",
        "covid = pd.read_csv(url)"
      ]
    },
    {
      "cell_type": "markdown",
      "metadata": {
        "id": "Mqf782RfsGPe"
      },
      "source": [
        "## Dataset dictionary\n",
        "\n"
      ]
    },
    {
      "cell_type": "markdown",
      "metadata": {
        "id": "QZfMnQ-4SJ_x"
      },
      "source": [
        "The dataset was provided by the Mexican government. This dataset contains an enormous number of anonymized patient-related information including pre-conditions. The raw dataset consists of 21 unique features and 1'048'576 unique patients. In the Boolean features, 1 means \"yes\" and 2 means \"no\". Values encoded as 97 and 99 are missing data."
      ]
    },
    {
      "cell_type": "markdown",
      "metadata": {
        "id": "f-zwzAEiRw_Q"
      },
      "source": [
        "* sex: female or male.\n",
        "* age: of the patient.\n",
        "* patient type: type of care the patient received in the unit. 1 for returned home and 2 for hospitalization..\n",
        "* pneumonia: whether the patient already have air sacs inflammation or not.\n",
        "* pregnancy: whether the patient is pregnant or not.\n",
        "* diabetes: whether the patient has diabetes or not.\n",
        "* copd: Indicates whether the patient has Chronic obstructive pulmonary disease or not.\n",
        "* asthma: whether the patient has asthma or not.\n",
        "* inmsupr: whether the patient is immunosuppressed or not.\n",
        "* hypertension: whether the patient has hypertension or not.\n",
        "* cardiovascular: whether the patient has heart or blood vessels related disease.\n",
        "* renal chronic: whether the patient has chronic renal disease or not.\n",
        "* other disease: whether the patient has other disease or not.\n",
        "* obesity: whether the patient is obese or not.\n",
        "* tobacco: whether the patient is a tobacco user.\n",
        "* usmr: Indicates whether the patient treated medical units of the first, second or third level.\n",
        "* medical unit: type of institution of the National Health System that provided the care.\n",
        "* intubed: whether the patient was connected to the ventilator.\n",
        "* icu: Indicates whether the patient had been admitted to an Intensive Care Unit.\n",
        "* death: indicates whether the patient died or recovered.\n",
        "\n",
        "Note: you can ignore the column \"CLASIFFICATION_FINAL\""
      ]
    },
    {
      "cell_type": "markdown",
      "metadata": {
        "id": "RsG3i2j6SThj"
      },
      "source": [
        "Source: [Kaggle](https://www.kaggle.com/datasets/meirnizri/covid19-dataset)"
      ]
    },
    {
      "cell_type": "code",
      "execution_count": 2,
      "metadata": {
        "id": "bwjU6bc4UhRd",
        "colab": {
          "base_uri": "https://localhost:8080/"
        },
        "outputId": "4834c41a-8397-4693-cb4a-bd66e5531e3b"
      },
      "outputs": [
        {
          "output_type": "stream",
          "name": "stdout",
          "text": [
            "Populating the interactive namespace from numpy and matplotlib\n"
          ]
        }
      ],
      "source": [
        "import pandas as pd\n",
        "import numpy as np\n",
        "import seaborn as sns\n",
        "import pylab as pl\n",
        "import matplotlib \n",
        "import matplotlib.pyplot as plt\n",
        "from matplotlib import animation\n",
        "from IPython.display import HTML\n",
        "\n",
        "import scipy as sp\n",
        "from scipy import stats\n",
        "%pylab inline"
      ]
    },
    {
      "cell_type": "markdown",
      "metadata": {
        "id": "iuXkYNBMDSy1"
      },
      "source": [
        "# Graphical analysis + data filtering"
      ]
    },
    {
      "cell_type": "code",
      "execution_count": 3,
      "metadata": {
        "id": "XNM9uYDjK5Lk",
        "colab": {
          "base_uri": "https://localhost:8080/"
        },
        "outputId": "f9f43ea3-6c21-41a9-8e89-f18add836171"
      },
      "outputs": [
        {
          "output_type": "execute_result",
          "data": {
            "text/plain": [
              "100000"
            ]
          },
          "metadata": {},
          "execution_count": 3
        }
      ],
      "source": [
        "len(covid)"
      ]
    },
    {
      "cell_type": "code",
      "execution_count": 4,
      "metadata": {
        "id": "0JWrdS-gFn-G"
      },
      "outputs": [],
      "source": [
        "covid.drop_duplicates(inplace=True)\n",
        "covid.dropna(inplace=True)"
      ]
    },
    {
      "cell_type": "code",
      "execution_count": 5,
      "metadata": {
        "id": "nGfySWgmOAMg",
        "colab": {
          "base_uri": "https://localhost:8080/"
        },
        "outputId": "c436fc4a-af2d-42ec-e557-7ce28f8b0310"
      },
      "outputs": [
        {
          "output_type": "execute_result",
          "data": {
            "text/plain": [
              "USMER                    int64\n",
              "MEDICAL_UNIT             int64\n",
              "SEX                      int64\n",
              "PATIENT_TYPE             int64\n",
              "DATE_DIED               object\n",
              "INTUBED                  int64\n",
              "PNEUMONIA                int64\n",
              "AGE                      int64\n",
              "PREGNANT                 int64\n",
              "DIABETES                 int64\n",
              "COPD                     int64\n",
              "ASTHMA                   int64\n",
              "INMSUPR                  int64\n",
              "HIPERTENSION             int64\n",
              "OTHER_DISEASE            int64\n",
              "CARDIOVASCULAR           int64\n",
              "OBESITY                  int64\n",
              "RENAL_CHRONIC            int64\n",
              "TOBACCO                  int64\n",
              "CLASIFFICATION_FINAL     int64\n",
              "ICU                      int64\n",
              "dtype: object"
            ]
          },
          "metadata": {},
          "execution_count": 5
        }
      ],
      "source": [
        "covid.dtypes"
      ]
    },
    {
      "cell_type": "markdown",
      "source": [
        "If the date died had 9999-99-99 the patient was assumed to be alive. For the graphical analysis the data filtering was as conservative as possible, in order to have the most data possible. Before each graph, when needed, the data was checked and, when needed, filtered/edited. \n",
        "For the machine learning part a more \"agressive\" data filtering was used, this can be seen in the machine learning chapter."
      ],
      "metadata": {
        "id": "LuzBJB77eI3E"
      }
    },
    {
      "cell_type": "code",
      "source": [
        "print(covid[\"DATE_DIED\"].unique())"
      ],
      "metadata": {
        "colab": {
          "base_uri": "https://localhost:8080/"
        },
        "id": "h0qlb68PfUni",
        "outputId": "217e64f8-e841-42f6-fcbc-b5e5bf62e0e3"
      },
      "execution_count": 6,
      "outputs": [
        {
          "output_type": "stream",
          "name": "stdout",
          "text": [
            "['03/05/2020' '03/06/2020' '09/06/2020' '12/06/2020' '21/06/2020'\n",
            " '9999-99-99' '26/02/2020' '05/04/2020' '08/05/2020' '20/05/2020'\n",
            " '17/07/2020' '13/01/2020' '22/01/2020' '29/01/2020' '13/02/2020'\n",
            " '18/02/2020' '19/02/2020' '20/02/2020' '24/02/2020' '04/03/2020'\n",
            " '07/03/2020' '12/03/2020' '14/03/2020' '18/03/2020' '27/03/2020'\n",
            " '28/03/2020' '29/03/2020' '02/04/2020' '06/04/2020' '07/04/2020'\n",
            " '08/04/2020' '09/04/2020' '10/04/2020' '11/04/2020' '12/04/2020'\n",
            " '13/04/2020' '14/04/2020' '15/04/2020' '16/04/2020' '17/04/2020'\n",
            " '18/04/2020' '20/04/2020' '21/04/2020' '22/04/2020' '23/04/2020'\n",
            " '24/04/2020' '25/04/2020' '26/04/2020' '27/04/2020' '28/04/2020'\n",
            " '29/04/2020' '30/04/2020' '01/05/2020' '02/05/2020' '04/05/2020'\n",
            " '05/05/2020' '06/05/2020' '07/05/2020' '09/05/2020' '10/05/2020'\n",
            " '11/05/2020' '12/05/2020' '13/05/2020' '14/05/2020' '15/05/2020'\n",
            " '16/05/2020' '17/05/2020' '18/05/2020' '19/05/2020' '21/05/2020'\n",
            " '22/05/2020' '23/05/2020' '24/05/2020' '25/05/2020' '26/05/2020'\n",
            " '27/05/2020' '28/05/2020' '29/05/2020' '30/05/2020' '31/05/2020'\n",
            " '01/06/2020' '02/06/2020' '04/06/2020' '05/06/2020' '06/06/2020'\n",
            " '07/06/2020' '08/06/2020' '10/06/2020' '11/06/2020' '13/06/2020'\n",
            " '14/06/2020' '15/06/2020' '16/06/2020' '17/06/2020' '18/06/2020'\n",
            " '19/06/2020' '20/06/2020' '22/06/2020' '23/06/2020' '24/06/2020'\n",
            " '25/06/2020' '26/06/2020' '27/06/2020' '28/06/2020' '29/06/2020'\n",
            " '30/06/2020' '01/07/2020' '02/07/2020' '03/07/2020' '04/07/2020'\n",
            " '05/07/2020' '06/07/2020' '07/07/2020' '08/07/2020' '09/07/2020'\n",
            " '10/07/2020' '11/07/2020' '12/07/2020' '13/07/2020' '14/07/2020'\n",
            " '15/07/2020' '16/07/2020' '18/07/2020' '19/07/2020' '20/07/2020'\n",
            " '21/07/2020' '22/07/2020' '23/07/2020' '24/07/2020' '25/07/2020'\n",
            " '26/07/2020' '27/07/2020' '28/07/2020' '29/07/2020' '30/07/2020'\n",
            " '31/07/2020' '01/08/2020' '02/08/2020' '03/08/2020' '04/08/2020'\n",
            " '05/08/2020' '06/08/2020' '07/08/2020' '08/08/2020' '09/08/2020'\n",
            " '10/08/2020' '12/08/2020' '14/08/2020' '17/08/2020' '18/08/2020'\n",
            " '19/08/2020' '20/08/2020' '25/08/2020' '02/09/2020' '13/09/2020'\n",
            " '28/09/2020' '27/10/2020' '08/12/2020' '17/12/2020' '27/04/2021'\n",
            " '01/05/2021' '02/01/2020' '03/01/2020' '04/01/2020' '05/01/2020'\n",
            " '06/01/2020' '07/01/2020' '08/01/2020' '09/01/2020' '10/01/2020'\n",
            " '11/01/2020' '12/01/2020' '14/01/2020' '15/01/2020' '16/01/2020'\n",
            " '17/01/2020' '18/01/2020' '19/01/2020' '20/01/2020' '21/01/2020'\n",
            " '23/01/2020' '24/01/2020' '25/01/2020' '26/01/2020' '27/01/2020'\n",
            " '28/01/2020' '30/01/2020' '31/01/2020' '01/02/2020' '02/02/2020'\n",
            " '03/02/2020' '04/02/2020' '05/02/2020' '06/02/2020' '07/02/2020'\n",
            " '08/02/2020' '09/02/2020' '10/02/2020' '11/02/2020' '12/02/2020'\n",
            " '14/02/2020' '15/02/2020' '16/02/2020' '17/02/2020' '21/02/2020'\n",
            " '22/02/2020' '23/02/2020' '25/02/2020' '27/02/2020' '28/02/2020'\n",
            " '29/02/2020' '01/03/2020' '02/03/2020' '03/03/2020' '05/03/2020'\n",
            " '06/03/2020' '08/03/2020' '09/03/2020' '10/03/2020' '11/03/2020'\n",
            " '13/03/2020' '15/03/2020' '16/03/2020' '17/03/2020' '19/03/2020'\n",
            " '20/03/2020' '21/03/2020' '22/03/2020' '23/03/2020' '24/03/2020'\n",
            " '25/03/2020' '26/03/2020' '30/03/2020' '31/03/2020' '01/04/2020'\n",
            " '03/04/2020' '04/04/2020' '19/04/2020' '11/08/2020' '13/08/2020'\n",
            " '15/08/2020' '16/08/2020' '21/08/2020' '22/08/2020' '23/08/2020'\n",
            " '24/08/2020' '26/08/2020' '27/08/2020' '28/08/2020' '29/08/2020'\n",
            " '30/08/2020' '31/08/2020' '01/09/2020' '03/09/2020' '04/09/2020'\n",
            " '05/09/2020' '06/09/2020' '07/09/2020' '08/09/2020' '09/09/2020'\n",
            " '11/09/2020' '14/09/2020' '16/09/2020' '17/09/2020' '18/09/2020'\n",
            " '19/09/2020' '20/09/2020' '21/09/2020' '22/09/2020' '23/09/2020'\n",
            " '24/09/2020' '27/09/2020' '29/09/2020' '04/10/2020' '05/10/2020'\n",
            " '12/10/2020' '14/10/2020' '16/10/2020' '18/10/2020' '20/10/2020'\n",
            " '23/10/2020' '25/10/2020' '26/10/2020' '30/10/2020' '04/11/2020'\n",
            " '06/11/2020' '08/11/2020' '12/11/2020' '14/11/2020' '15/11/2020'\n",
            " '23/11/2020' '24/11/2020' '05/12/2020' '30/12/2020' '10/01/2021'\n",
            " '14/01/2021' '15/01/2021' '19/01/2021' '20/01/2021' '21/01/2021'\n",
            " '24/01/2021' '25/01/2021' '27/01/2021' '28/01/2021' '31/01/2021'\n",
            " '01/02/2021' '03/02/2021' '04/02/2021' '05/02/2021' '06/02/2021'\n",
            " '08/02/2021' '10/02/2021' '11/02/2021' '12/02/2021' '18/02/2021'\n",
            " '20/02/2021' '24/02/2021' '25/02/2021' '26/02/2021' '27/02/2021'\n",
            " '07/03/2021' '08/03/2021' '29/03/2021' '30/03/2021' '01/04/2021'\n",
            " '12/04/2021' '14/04/2021' '15/04/2021' '16/04/2021' '17/04/2021'\n",
            " '18/04/2021' '25/04/2021' '26/04/2021' '28/04/2021' '29/04/2021'\n",
            " '30/04/2021' '02/05/2021']\n"
          ]
        }
      ]
    },
    {
      "cell_type": "code",
      "execution_count": 7,
      "metadata": {
        "id": "3TrVBM6oR0oY",
        "colab": {
          "base_uri": "https://localhost:8080/"
        },
        "outputId": "b5b18445-08df-4777-ddad-d8133e907a13"
      },
      "outputs": [
        {
          "output_type": "stream",
          "name": "stderr",
          "text": [
            "<ipython-input-7-43ea942990b5>:3: SettingWithCopyWarning: \n",
            "A value is trying to be set on a copy of a slice from a DataFrame.\n",
            "Try using .loc[row_indexer,col_indexer] = value instead\n",
            "\n",
            "See the caveats in the documentation: https://pandas.pydata.org/pandas-docs/stable/user_guide/indexing.html#returning-a-view-versus-a-copy\n",
            "  covid_alive[\"died\"]=\"alive\" #0 means ALIVE\n",
            "<ipython-input-7-43ea942990b5>:4: SettingWithCopyWarning: \n",
            "A value is trying to be set on a copy of a slice from a DataFrame.\n",
            "Try using .loc[row_indexer,col_indexer] = value instead\n",
            "\n",
            "See the caveats in the documentation: https://pandas.pydata.org/pandas-docs/stable/user_guide/indexing.html#returning-a-view-versus-a-copy\n",
            "  covid_died1[\"died\"]=\"dead\"  #1 means DEAD\n"
          ]
        }
      ],
      "source": [
        "covid_died1 = covid[covid.DATE_DIED.str.contains(\"9999-99-99\") == False]\n",
        "covid_alive=covid[covid.DATE_DIED.str.contains(\"9999-99-99\") == True]\n",
        "covid_alive[\"died\"]=\"alive\" #0 means ALIVE\n",
        "covid_died1[\"died\"]=\"dead\"  #1 means DEAD\n",
        "# divided the data sets based on dead or not, later gave 1 and 2"
      ]
    },
    {
      "cell_type": "code",
      "execution_count": 8,
      "metadata": {
        "id": "GTpz7wEeSadW",
        "colab": {
          "base_uri": "https://localhost:8080/"
        },
        "outputId": "12d2c793-e3db-4cad-86c3-90991c6aba6d"
      },
      "outputs": [
        {
          "output_type": "execute_result",
          "data": {
            "text/plain": [
              "58844"
            ]
          },
          "metadata": {},
          "execution_count": 8
        }
      ],
      "source": [
        "df= pd.merge(covid_died1, covid_alive, how=\"outer\")\n",
        "len(df)"
      ]
    },
    {
      "cell_type": "code",
      "execution_count": 9,
      "metadata": {
        "id": "k8ZCoHRGUT9P",
        "colab": {
          "base_uri": "https://localhost:8080/"
        },
        "outputId": "2aca191c-8735-49f7-e673-92db45a580c6"
      },
      "outputs": [
        {
          "output_type": "execute_result",
          "data": {
            "text/plain": [
              "dead     0.693597\n",
              "alive    0.306403\n",
              "Name: died, dtype: float64"
            ]
          },
          "metadata": {},
          "execution_count": 9
        }
      ],
      "source": [
        "df[\"died\"].value_counts(normalize=True)"
      ]
    },
    {
      "cell_type": "code",
      "execution_count": 10,
      "metadata": {
        "id": "zmbgLfWqDZPx"
      },
      "outputs": [],
      "source": [
        "df= df.dropna(subset=['AGE'])"
      ]
    },
    {
      "cell_type": "code",
      "source": [
        "print(\"patients 99 age:\", df[df['AGE']==99].value_counts().sum())"
      ],
      "metadata": {
        "colab": {
          "base_uri": "https://localhost:8080/"
        },
        "id": "5SAbIopCtcZc",
        "outputId": "9d5211f3-d4fe-4757-da46-96cc5437f4ff"
      },
      "execution_count": 11,
      "outputs": [
        {
          "output_type": "stream",
          "name": "stdout",
          "text": [
            "patients 99 age: 16\n"
          ]
        }
      ]
    },
    {
      "cell_type": "code",
      "source": [
        "print(\"AGE\", df[\"AGE\"].unique())"
      ],
      "metadata": {
        "colab": {
          "base_uri": "https://localhost:8080/"
        },
        "id": "lLDRGbWK3ML4",
        "outputId": "aab636d3-080d-4ec7-b8e5-cac449efdf37"
      },
      "execution_count": 12,
      "outputs": [
        {
          "output_type": "stream",
          "name": "stdout",
          "text": [
            "AGE [ 65  72  55  53  68   1  14   0  17  47  75   2  59  58  43  81  54  56\n",
            "  67  64  49  88  86  90  61  73  87  60  42  63  62  74  83  57  84  66\n",
            "  46  26  45  70  71  80  39  79  50  82  51  69  77  92  34  52  78  76\n",
            "  48  32  41  20  44  40  22  38  36  30  37  85  23  89  31  35  27   3\n",
            "  10  24   7  97  25  93  95 100   5   6  91   4  33  12  15  98  94  21\n",
            "  99  16  13  18  28  29   8  19  11  96   9 103 101 107 102]\n"
          ]
        }
      ]
    },
    {
      "cell_type": "markdown",
      "source": [
        "Here for the age I didn't remove the 99 as we don't know if the patient is acutally 99 or the datas are missing. "
      ],
      "metadata": {
        "id": "rBFYkMva9nYe"
      }
    },
    {
      "cell_type": "code",
      "execution_count": 13,
      "metadata": {
        "id": "Rxc0A2ZsTKz_"
      },
      "outputs": [],
      "source": [
        "dict1=[\"Under 50\", \"between 50 and 59\", \"between 60 and 69\", \"between 70 and 79\",\"between 80 and 89\", \"Over 90 \"]\n",
        "dict2= [df[df['AGE']< 50],\n",
        "        df[(df['AGE']>= 50.0) & (df['AGE']<60.0)],\n",
        "        df[(df['AGE']>= 60.0) & (df['AGE']<70.0)],\n",
        "        df[(df['AGE']>= 70.0) & (df['AGE']<80.0)],\n",
        "        df[(df['AGE']>= 80.0) & (df['AGE']<90.0)],\n",
        "        df[df['AGE']>=90]]\n",
        "\n",
        "value_alive=[]\n",
        "value_dead=[]\n",
        "\n",
        "for i in range(6):\n",
        "  a=(dict2[i]['died'].value_counts(normalize=True).sort_index(ascending=False)[\"alive\"]) \n",
        "  value_alive = np.append(value_alive, a)\n",
        "  b=(dict2[i]['died'].value_counts(normalize=True).sort_index(ascending=False)[\"dead\"]) \n",
        "  value_dead = np.append(value_dead, b)        "
      ]
    },
    {
      "cell_type": "code",
      "execution_count": 14,
      "metadata": {
        "id": "J47piCpjt3DP",
        "colab": {
          "base_uri": "https://localhost:8080/"
        },
        "outputId": "301d15da-5386-40ba-878d-99bce155ab43"
      },
      "outputs": [
        {
          "output_type": "stream",
          "name": "stdout",
          "text": [
            "dead     0.448119\n",
            "alive    0.551881\n",
            "Name: died, dtype: float64\n",
            "dead     0.702023\n",
            "alive    0.297977\n",
            "Name: died, dtype: float64\n",
            "dead     0.806625\n",
            "alive    0.193375\n",
            "Name: died, dtype: float64\n",
            "dead     0.859127\n",
            "alive    0.140873\n",
            "Name: died, dtype: float64\n",
            "dead     0.884239\n",
            "alive    0.115761\n",
            "Name: died, dtype: float64\n",
            "dead     0.870474\n",
            "alive    0.129526\n",
            "Name: died, dtype: float64\n"
          ]
        }
      ],
      "source": [
        "for i in range(6):\n",
        "  print(dict2[i]['died'].value_counts(normalize=True).sort_index(ascending=False))"
      ]
    },
    {
      "cell_type": "code",
      "execution_count": 15,
      "metadata": {
        "id": "qyAJ29yYZOOC",
        "colab": {
          "base_uri": "https://localhost:8080/"
        },
        "outputId": "e0741b80-e672-40e7-8369-7c886b2fb3f9"
      },
      "outputs": [
        {
          "output_type": "stream",
          "name": "stdout",
          "text": [
            "0.4481191763487864\n",
            "0.7020225776105362\n",
            "0.8066253504500517\n",
            "0.8591265848259207\n",
            "0.8842386464826358\n",
            "0.8704735376044568\n"
          ]
        }
      ],
      "source": [
        "for i in range(6):\n",
        "  print(dict2[i]['died'].value_counts(normalize=True).sort_index(ascending=False).values[0]) # with values, it takes the second one, !position!"
      ]
    },
    {
      "cell_type": "code",
      "execution_count": 16,
      "metadata": {
        "id": "7oHEAX4XVXv-",
        "colab": {
          "base_uri": "https://localhost:8080/"
        },
        "outputId": "8d6e9e6b-19b7-4faa-fcfb-acf983eb04d9"
      },
      "outputs": [
        {
          "output_type": "execute_result",
          "data": {
            "text/plain": [
              "array([0.44811918, 0.70202258, 0.80662535, 0.85912658, 0.88423865,\n",
              "       0.87047354])"
            ]
          },
          "metadata": {},
          "execution_count": 16
        }
      ],
      "source": [
        "value_dead"
      ]
    },
    {
      "cell_type": "code",
      "execution_count": 17,
      "metadata": {
        "id": "LWRsEtkdVd9x",
        "colab": {
          "base_uri": "https://localhost:8080/"
        },
        "outputId": "c107cb63-3303-4cee-ae47-4f76e6ffd06c"
      },
      "outputs": [
        {
          "output_type": "execute_result",
          "data": {
            "text/plain": [
              "array([0.55188082, 0.29797742, 0.19337465, 0.14087342, 0.11576135,\n",
              "       0.12952646])"
            ]
          },
          "metadata": {},
          "execution_count": 17
        }
      ],
      "source": [
        "value_alive"
      ]
    },
    {
      "cell_type": "code",
      "execution_count": 18,
      "metadata": {
        "id": "Pg5jkadnw8ph",
        "colab": {
          "base_uri": "https://localhost:8080/",
          "height": 399
        },
        "outputId": "7207ca87-c8a2-4123-db98-2fe3698f7f07"
      },
      "outputs": [
        {
          "output_type": "execute_result",
          "data": {
            "text/plain": [
              "<matplotlib.legend.Legend at 0x7fc5e936c5b0>"
            ]
          },
          "metadata": {},
          "execution_count": 18
        },
        {
          "output_type": "display_data",
          "data": {
            "text/plain": [
              "<Figure size 432x288 with 1 Axes>"
            ],
            "image/png": "[encoded data removed]"
          },
          "metadata": {
            "needs_background": "light"
          }
        }
      ],
      "source": [
        "# want to compare patients who died to patients who didn't die \n",
        "n=6\n",
        "r = np.arange(6)\n",
        "width = 0.25  \n",
        "\n",
        "plt.bar(r, value_alive*100, color = ['blue'], width = width, edgecolor = 'black', label='% of alive in age group when positive to COVID')\n",
        "plt.bar(r + width, value_dead*100, color = ['orange'],width = width, edgecolor = 'black',label='% of dead in age group when positive to COVID')\n",
        "\n",
        "plt.xticks(r + width/2,[\"Under 50\", \"between 50 and 59\", \"between 60 and 69\", \"between 70 and 79\",\"between 80 and 89\", \"Over 90 \"])\n",
        "plt.xlabel('Age Groups')\n",
        "plt.xticks(rotation=90) \n",
        "plt.ylabel('% of alive vs dead in the age group')\n",
        "plt.title('Covid patients, alive/dead % in age groups') \n",
        "plt.legend(loc='center left', bbox_to_anchor=(1,0.5), title= \"Legend\")  "
      ]
    },
    {
      "cell_type": "markdown",
      "metadata": {
        "id": "0_VxnCgxQy3y"
      },
      "source": [
        "With increasing age the percentage of people who die from covid increase. (not done with statistical analysis but by observing the graph)"
      ]
    },
    {
      "cell_type": "code",
      "execution_count": 19,
      "metadata": {
        "id": "Cf0FwaR29Aoc",
        "colab": {
          "base_uri": "https://localhost:8080/"
        },
        "outputId": "c9983ad3-25fe-4f00-fe73-ded93779bd9c"
      },
      "outputs": [
        {
          "output_type": "execute_result",
          "data": {
            "text/plain": [
              "2     38450\n",
              "1     20243\n",
              "98      151\n",
              "Name: DIABETES, dtype: int64"
            ]
          },
          "metadata": {},
          "execution_count": 19
        }
      ],
      "source": [
        "df[\"DIABETES\"].value_counts()"
      ]
    },
    {
      "cell_type": "markdown",
      "source": [
        "Here we have the 98 value, however we are looking if the person is affected by the disease, =1 no need to remove the 98 or 99 for other diseases. In order to not exclude patients just becase one column doesn't contain information (99 or 98) I decided to leave this data in. In the Machine learning part I filtered the data again to not have any missing data. "
      ],
      "metadata": {
        "id": "9JAzH3BkBbyQ"
      }
    },
    {
      "cell_type": "code",
      "execution_count": 20,
      "metadata": {
        "id": "0NZJxvTmmcA0"
      },
      "outputs": [],
      "source": [
        "# pneumonia patients vs non pneumonia patients outcome 2 --> means not obese \n",
        "# 1 means has pneumonia (YES), 2 means (NO)\n",
        "# taking patients with diesease and seeing outcome, dead or alive--> making graph to compare the different conditions \n",
        "disease=(\"HIPERTENSION\",\"PNEUMONIA\",\"DIABETES\",\"CARDIOVASCULAR\", \"TOBACCO\",\"OBESITY\", \"RENAL_CHRONIC\")\n",
        "\n",
        "for i in range(len(disease)):\n",
        "  df= df.dropna(subset=[disease[i]])\n",
        "\n",
        "alive_disease=[]\n",
        "dead_disease=[]\n",
        "\n",
        "for i in range(len(disease)):\n",
        "  a=df[df[disease[i]]==1]['died'].value_counts().sort_index(ascending=False)[\"dead\"]\n",
        "  dead_disease = np.append(dead_disease, a)\n",
        "  b=df[df[disease[i]]==1][\"died\"].value_counts().sort_index(ascending = False)[\"alive\"] \n",
        "  alive_disease = np.append(alive_disease, b)  "
      ]
    },
    {
      "cell_type": "code",
      "execution_count": 21,
      "metadata": {
        "id": "nLxkzVZLoey2",
        "colab": {
          "base_uri": "https://localhost:8080/"
        },
        "outputId": "3c951703-d5ce-4c77-c7fb-fcf02ba8d55c"
      },
      "outputs": [
        {
          "output_type": "execute_result",
          "data": {
            "text/plain": [
              "dead     15149\n",
              "alive     5094\n",
              "Name: died, dtype: int64"
            ]
          },
          "metadata": {},
          "execution_count": 21
        }
      ],
      "source": [
        "df[df[\"DIABETES\"]==1]['died'].value_counts().sort_index(ascending=False)"
      ]
    },
    {
      "cell_type": "code",
      "execution_count": 22,
      "metadata": {
        "id": "AmVp-jjM-oUK",
        "colab": {
          "base_uri": "https://localhost:8080/"
        },
        "outputId": "7b8bedae-5586-48fa-bfd8-1edd60c93cb0"
      },
      "outputs": [
        {
          "output_type": "execute_result",
          "data": {
            "text/plain": [
              "5094"
            ]
          },
          "metadata": {},
          "execution_count": 22
        }
      ],
      "source": [
        "df[df[\"DIABETES\"]==1]['died'].value_counts().sort_index(ascending=False)[\"alive\"]  # to check if the results are correct"
      ]
    },
    {
      "cell_type": "code",
      "execution_count": 23,
      "metadata": {
        "id": "YHjUKHoQVoYF",
        "colab": {
          "base_uri": "https://localhost:8080/"
        },
        "outputId": "25d21532-4129-4c97-dd66-c4a41951db9a"
      },
      "outputs": [
        {
          "output_type": "execute_result",
          "data": {
            "text/plain": [
              "array([6265., 5564., 5094., 1010., 2563., 5275.,  995.])"
            ]
          },
          "metadata": {},
          "execution_count": 23
        }
      ],
      "source": [
        "alive_disease "
      ]
    },
    {
      "cell_type": "code",
      "execution_count": 24,
      "metadata": {
        "id": "lXaPZjcT2PSI",
        "colab": {
          "base_uri": "https://localhost:8080/",
          "height": 394
        },
        "outputId": "19f1ac56-dcc0-41bf-a04c-34dd7ece7311"
      },
      "outputs": [
        {
          "output_type": "execute_result",
          "data": {
            "text/plain": [
              "<matplotlib.legend.Legend at 0x7fc5e8e88820>"
            ]
          },
          "metadata": {},
          "execution_count": 24
        },
        {
          "output_type": "display_data",
          "data": {
            "text/plain": [
              "<Figure size 432x288 with 1 Axes>"
            ],
            "image/png": "[encoded data removed]"
          },
          "metadata": {
            "needs_background": "light"
          }
        }
      ],
      "source": [
        "n=(len(disease))\n",
        "r = np.arange(len(disease))\n",
        "width = 0.25\n",
        "\n",
        "plt.bar(r,alive_disease, width=width,label='positive to covid and disease, alive') \n",
        "plt.bar(r+width,dead_disease, width=width,label='postive to covid and disease, dead')\n",
        "\n",
        "plt.xticks(r + width/2,disease)\n",
        "plt.ylabel(\"absolute number of patients\")\n",
        "plt.xlabel('Various diseases of the patients')\n",
        "plt.title(\"Covid patients with disease, alive or dead\")\n",
        "plt.legend()\n",
        "plt.xticks(rotation=90) \n",
        "plt.legend(loc='center left', bbox_to_anchor=(1,0.5), title= \"Legend\") "
      ]
    },
    {
      "cell_type": "markdown",
      "metadata": {
        "id": "UNxlJ24YQNwi"
      },
      "source": [
        "With this graph, I wanted to see the effect of a disease on patient death. In the graph all patients have the disease on the x axis and are positive to covid. Additionally one can see if the patient with the disease and positive to covid, is dead or alive. \n",
        "For example when one is diagnosed with Pneumonia, the \"chances\" of dying are much higher, as most patients die. Obestity instead doesn't seem to be so influencial.\n",
        "These observations are done by observing the graph, not by statistical analysis "
      ]
    },
    {
      "cell_type": "code",
      "source": [
        "covid_died1[\"SEX\"].value_counts()"
      ],
      "metadata": {
        "colab": {
          "base_uri": "https://localhost:8080/"
        },
        "id": "T70yzca1AN4n",
        "outputId": "54c9618a-2aa0-4b9b-8c06-03bb55e5625b"
      },
      "execution_count": 25,
      "outputs": [
        {
          "output_type": "execute_result",
          "data": {
            "text/plain": [
              "2    25647\n",
              "1    15167\n",
              "Name: SEX, dtype: int64"
            ]
          },
          "metadata": {},
          "execution_count": 25
        }
      ]
    },
    {
      "cell_type": "markdown",
      "source": [
        "Here we only have female and male, no need to pre-process or eliminate missing data. Subsequently in the graphs we are only looking at data when the disease is present (=1). "
      ],
      "metadata": {
        "id": "zPrXvRtgAyFX"
      }
    },
    {
      "cell_type": "code",
      "execution_count": 26,
      "metadata": {
        "id": "G9UPK7KXUeZC",
        "colab": {
          "base_uri": "https://localhost:8080/"
        },
        "outputId": "cef20e74-c7be-42f0-899f-0e4906eafbed"
      },
      "outputs": [
        {
          "output_type": "execute_result",
          "data": {
            "text/plain": [
              "2    2136\n",
              "1    1584\n",
              "Name: SEX, dtype: int64"
            ]
          },
          "metadata": {},
          "execution_count": 26
        }
      ],
      "source": [
        "covid_died1[covid_died1[\"RENAL_CHRONIC\"]==1][\"SEX\"].value_counts().sort_index(ascending = False)"
      ]
    },
    {
      "cell_type": "code",
      "execution_count": 27,
      "metadata": {
        "id": "-y_uSsABEvks"
      },
      "outputs": [],
      "source": [
        "#gender, died with disease, how is the distribution with gender \n",
        "# 1 means has pneumonia (YES), 2 means (NO)\n",
        "covid_died1 #data set with people who died, sex female 1, male 2\n",
        "disease=(\"HIPERTENSION\",\"PNEUMONIA\",\"DIABETES\",\"CARDIOVASCULAR\", \"TOBACCO\",\"OBESITY\", \"RENAL_CHRONIC\")\n",
        "male=[]\n",
        "female=[]\n",
        "#1 - female  2 - male\n",
        "for i in range(len(disease)):\n",
        "  a=covid_died1[covid_died1[disease[i]]==1][\"SEX\"].value_counts().sort_index(ascending = False)[2] #2 is male\n",
        "  male = np.append(male, a)\n",
        "  b=covid_died1[covid_died1[disease[i]]==1][\"SEX\"].value_counts().sort_index(ascending = False)[1] # 1 is female \n",
        "  female = np.append(female, b)   "
      ]
    },
    {
      "cell_type": "code",
      "execution_count": 28,
      "metadata": {
        "id": "ZA9IZMA-TLOV",
        "colab": {
          "base_uri": "https://localhost:8080/"
        },
        "outputId": "471bed75-6a43-46a8-c875-2d3fc6fe554e"
      },
      "outputs": [
        {
          "output_type": "execute_result",
          "data": {
            "text/plain": [
              "array([10433., 14865.,  8633.,  1481.,  2876.,  4828.,  2136.])"
            ]
          },
          "metadata": {},
          "execution_count": 28
        }
      ],
      "source": [
        "male"
      ]
    },
    {
      "cell_type": "code",
      "execution_count": 29,
      "metadata": {
        "id": "yYlTPYN7TfTa",
        "colab": {
          "base_uri": "https://localhost:8080/"
        },
        "outputId": "3cb34a5c-1985-4ec9-d37a-76676ff6e7f6"
      },
      "outputs": [
        {
          "output_type": "execute_result",
          "data": {
            "text/plain": [
              "array([7794., 8800., 6516.,  938.,  641., 3723., 1584.])"
            ]
          },
          "metadata": {},
          "execution_count": 29
        }
      ],
      "source": [
        "female"
      ]
    },
    {
      "cell_type": "code",
      "execution_count": 30,
      "metadata": {
        "id": "7ERJmXcuQAW9",
        "colab": {
          "base_uri": "https://localhost:8080/"
        },
        "outputId": "bdb7d4ff-1855-453f-f287-1668458d7aed"
      },
      "outputs": [
        {
          "output_type": "execute_result",
          "data": {
            "text/plain": [
              "2    2136\n",
              "1    1584\n",
              "Name: SEX, dtype: int64"
            ]
          },
          "metadata": {},
          "execution_count": 30
        }
      ],
      "source": [
        "covid_died1[covid_died1[\"RENAL_CHRONIC\"]==1][\"SEX\"].value_counts().sort_index(ascending = False) # 1 is female , 2 is male"
      ]
    },
    {
      "cell_type": "code",
      "execution_count": 31,
      "metadata": {
        "id": "ZzH04AA4RkOq",
        "colab": {
          "base_uri": "https://localhost:8080/"
        },
        "outputId": "a73851dc-6501-418b-aabf-93b50420880b"
      },
      "outputs": [
        {
          "output_type": "execute_result",
          "data": {
            "text/plain": [
              "1584"
            ]
          },
          "metadata": {},
          "execution_count": 31
        }
      ],
      "source": [
        "covid_died1[covid_died1[\"RENAL_CHRONIC\"]==1][\"SEX\"].value_counts().sort_index(ascending = False)[1] # gives you the value of the one "
      ]
    },
    {
      "cell_type": "code",
      "execution_count": 32,
      "metadata": {
        "id": "RXLDRBTpTrBs",
        "colab": {
          "base_uri": "https://localhost:8080/"
        },
        "outputId": "8bd0dfef-9d2e-4834-f566-529c1124bd32"
      },
      "outputs": [
        {
          "output_type": "execute_result",
          "data": {
            "text/plain": [
              "1584"
            ]
          },
          "metadata": {},
          "execution_count": 32
        }
      ],
      "source": [
        "covid_died1[covid_died1[\"RENAL_CHRONIC\"]==1][\"SEX\"].value_counts().sort_index(ascending = False).values[1] #position 0, then 1 (second)"
      ]
    },
    {
      "cell_type": "code",
      "execution_count": 33,
      "metadata": {
        "id": "_BpAHIBSaxW8",
        "colab": {
          "base_uri": "https://localhost:8080/",
          "height": 394
        },
        "outputId": "a3cd5f31-7dd0-4266-a1cd-e7b266b076a0"
      },
      "outputs": [
        {
          "output_type": "execute_result",
          "data": {
            "text/plain": [
              "<matplotlib.legend.Legend at 0x7fc5e8e0e9d0>"
            ]
          },
          "metadata": {},
          "execution_count": 33
        },
        {
          "output_type": "display_data",
          "data": {
            "text/plain": [
              "<Figure size 432x288 with 1 Axes>"
            ],
            "image/png": "[encoded data removed]"
          },
          "metadata": {
            "needs_background": "light"
          }
        }
      ],
      "source": [
        "n=(len(disease))\n",
        "r = np.arange(len(disease))\n",
        "width = 0.25\n",
        "\n",
        "plt.bar(r,male, width=width,label='positive to covid, with disease, dead, male', color=\"blue\") \n",
        "plt.bar(r+width,female, width=width,label='postive to covid with disease, dead, female', color=\"red\")\n",
        "\n",
        "plt.xticks(r + width/2,disease)\n",
        "plt.ylabel(\"absolute number of patients\")\n",
        "plt.xlabel('Various diseases of the patients')\n",
        "plt.title(\" Dead covid patients with disease, male vs female\")\n",
        "plt.legend()\n",
        "plt.xticks(rotation=90) \n",
        "plt.legend(loc='center left', bbox_to_anchor=(1,0.5), title= \"Legend\") "
      ]
    },
    {
      "cell_type": "code",
      "execution_count": 34,
      "metadata": {
        "id": "xxDagukc0S2Y",
        "colab": {
          "base_uri": "https://localhost:8080/"
        },
        "outputId": "1b573ff1-ad2b-4c79-b0bb-3e0252aa4cc3"
      },
      "outputs": [
        {
          "output_type": "stream",
          "name": "stdout",
          "text": [
            "covid died data set\n",
            "2    0.628387\n",
            "1    0.371613\n",
            "Name: SEX, dtype: float64\n"
          ]
        }
      ],
      "source": [
        "print(\"covid died data set\")\n",
        "print(covid_died1[\"SEX\"].value_counts(normalize=True))"
      ]
    },
    {
      "cell_type": "code",
      "execution_count": 35,
      "metadata": {
        "id": "XXD5MOUJ0YD2",
        "colab": {
          "base_uri": "https://localhost:8080/"
        },
        "outputId": "ca0014c5-5893-4123-da2e-4c32936e298f"
      },
      "outputs": [
        {
          "output_type": "stream",
          "name": "stdout",
          "text": [
            "covid data set\n",
            "2    0.591836\n",
            "1    0.408164\n",
            "Name: SEX, dtype: float64\n"
          ]
        }
      ],
      "source": [
        "print(\"covid data set\")\n",
        "print(df[\"SEX\"].value_counts(normalize=True))"
      ]
    },
    {
      "cell_type": "markdown",
      "metadata": {
        "id": "tSowCSsF0GoH"
      },
      "source": [
        "In this graph I looked at all of the dead patients with the disease, and differentiated them by sex. In all of the diseases, the death rate is higher in the male group. It should be noted that in the initial data set, with alive and dead patients, there are 62% males and 38% females. This could be due to bad sampling in the smaller data set, or males have a higher chance of becoming infected by covid thus having a higher percentage in the data sets."
      ]
    },
    {
      "cell_type": "markdown",
      "metadata": {
        "id": "eMCrojpwDKTY"
      },
      "source": [
        "# Kepler Meier Diagram"
      ]
    },
    {
      "cell_type": "code",
      "execution_count": 36,
      "metadata": {
        "id": "eF1TC5lvZJy7"
      },
      "outputs": [],
      "source": [
        "covid_died = covid[covid.DATE_DIED.str.contains(\"9999-99-99\") == False]"
      ]
    },
    {
      "cell_type": "code",
      "execution_count": 37,
      "metadata": {
        "id": "pkHROMF5ZL7n",
        "colab": {
          "base_uri": "https://localhost:8080/"
        },
        "outputId": "a143f934-72f2-4277-bff6-e0cc34fe07cd"
      },
      "outputs": [
        {
          "output_type": "stream",
          "name": "stdout",
          "text": [
            "Looking in indexes: https://pypi.org/simple, https://us-python.pkg.dev/colab-wheels/public/simple/\n",
            "Requirement already satisfied: lifelines in /usr/local/lib/python3.8/dist-packages (0.27.4)\n",
            "Requirement already satisfied: autograd>=1.5 in /usr/local/lib/python3.8/dist-packages (from lifelines) (1.5)\n",
            "Requirement already satisfied: formulaic>=0.2.2 in /usr/local/lib/python3.8/dist-packages (from lifelines) (0.5.2)\n",
            "Requirement already satisfied: numpy>=1.14.0 in /usr/local/lib/python3.8/dist-packages (from lifelines) (1.21.6)\n",
            "Requirement already satisfied: pandas>=1.0.0 in /usr/local/lib/python3.8/dist-packages (from lifelines) (1.3.5)\n",
            "Requirement already satisfied: matplotlib>=3.0 in /usr/local/lib/python3.8/dist-packages (from lifelines) (3.2.2)\n",
            "Requirement already satisfied: scipy>=1.2.0 in /usr/local/lib/python3.8/dist-packages (from lifelines) (1.7.3)\n",
            "Requirement already satisfied: autograd-gamma>=0.3 in /usr/local/lib/python3.8/dist-packages (from lifelines) (0.5.0)\n",
            "Requirement already satisfied: future>=0.15.2 in /usr/local/lib/python3.8/dist-packages (from autograd>=1.5->lifelines) (0.16.0)\n",
            "Requirement already satisfied: typing-extensions>=4.2.0 in /usr/local/lib/python3.8/dist-packages (from formulaic>=0.2.2->lifelines) (4.4.0)\n",
            "Requirement already satisfied: astor>=0.8 in /usr/local/lib/python3.8/dist-packages (from formulaic>=0.2.2->lifelines) (0.8.1)\n",
            "Requirement already satisfied: graphlib-backport>=1.0.0 in /usr/local/lib/python3.8/dist-packages (from formulaic>=0.2.2->lifelines) (1.0.3)\n",
            "Requirement already satisfied: interface-meta>=1.2.0 in /usr/local/lib/python3.8/dist-packages (from formulaic>=0.2.2->lifelines) (1.3.0)\n",
            "Requirement already satisfied: wrapt>=1.0 in /usr/local/lib/python3.8/dist-packages (from formulaic>=0.2.2->lifelines) (1.14.1)\n",
            "Requirement already satisfied: cycler>=0.10 in /usr/local/lib/python3.8/dist-packages (from matplotlib>=3.0->lifelines) (0.11.0)\n",
            "Requirement already satisfied: kiwisolver>=1.0.1 in /usr/local/lib/python3.8/dist-packages (from matplotlib>=3.0->lifelines) (1.4.4)\n",
            "Requirement already satisfied: python-dateutil>=2.1 in /usr/local/lib/python3.8/dist-packages (from matplotlib>=3.0->lifelines) (2.8.2)\n",
            "Requirement already satisfied: pyparsing!=2.0.4,!=2.1.2,!=2.1.6,>=2.0.1 in /usr/local/lib/python3.8/dist-packages (from matplotlib>=3.0->lifelines) (3.0.9)\n",
            "Requirement already satisfied: pytz>=2017.3 in /usr/local/lib/python3.8/dist-packages (from pandas>=1.0.0->lifelines) (2022.7)\n",
            "Requirement already satisfied: six>=1.5 in /usr/local/lib/python3.8/dist-packages (from python-dateutil>=2.1->matplotlib>=3.0->lifelines) (1.15.0)\n"
          ]
        }
      ],
      "source": [
        "!pip install lifelines"
      ]
    },
    {
      "cell_type": "code",
      "execution_count": 38,
      "metadata": {
        "id": "gYENgtpqaMX0"
      },
      "outputs": [],
      "source": [
        "from datetime import date\n",
        "from datetime import time\n",
        "from datetime import datetime\n",
        "from datetime import timedelta\n",
        "import matplotlib.pyplot as plt\n",
        "import seaborn as sns\n",
        "from lifelines import KaplanMeierFitter\n",
        "\n",
        "kmf = KaplanMeierFitter()  "
      ]
    },
    {
      "cell_type": "code",
      "execution_count": 39,
      "metadata": {
        "id": "nabwoxIsc_mF",
        "colab": {
          "base_uri": "https://localhost:8080/"
        },
        "outputId": "dc611af6-00ec-4ddb-f097-483695758fae"
      },
      "outputs": [
        {
          "output_type": "stream",
          "name": "stderr",
          "text": [
            "<ipython-input-39-67f22d8e65dc>:3: SettingWithCopyWarning: \n",
            "A value is trying to be set on a copy of a slice from a DataFrame.\n",
            "Try using .loc[row_indexer,col_indexer] = value instead\n",
            "\n",
            "See the caveats in the documentation: https://pandas.pydata.org/pandas-docs/stable/user_guide/indexing.html#returning-a-view-versus-a-copy\n",
            "  covid_died[\"time_elapsed\"]=pd.to_datetime(covid_died[\"DATE_DIED\"])-day1\n",
            "<ipython-input-39-67f22d8e65dc>:4: SettingWithCopyWarning: \n",
            "A value is trying to be set on a copy of a slice from a DataFrame.\n",
            "Try using .loc[row_indexer,col_indexer] = value instead\n",
            "\n",
            "See the caveats in the documentation: https://pandas.pydata.org/pandas-docs/stable/user_guide/indexing.html#returning-a-view-versus-a-copy\n",
            "  covid_died[\"died\"]=1\n"
          ]
        }
      ],
      "source": [
        "pd.to_datetime(covid_died[\"DATE_DIED\"])\n",
        "day1=pd.to_datetime('28.02.2020')\n",
        "covid_died[\"time_elapsed\"]=pd.to_datetime(covid_died[\"DATE_DIED\"])-day1\n",
        "covid_died[\"died\"]=1"
      ]
    },
    {
      "cell_type": "code",
      "execution_count": 40,
      "metadata": {
        "id": "6FLCrYSkgBT9",
        "colab": {
          "base_uri": "https://localhost:8080/"
        },
        "outputId": "3713249d-9805-4454-cfd6-517858340ac9"
      },
      "outputs": [
        {
          "output_type": "execute_result",
          "data": {
            "text/plain": [
              "Timedelta('-57 days +00:00:00')"
            ]
          },
          "metadata": {},
          "execution_count": 40
        }
      ],
      "source": [
        "covid_died[\"time_elapsed\"].min()"
      ]
    },
    {
      "cell_type": "code",
      "execution_count": 41,
      "metadata": {
        "id": "In5lluwbZnAW",
        "colab": {
          "base_uri": "https://localhost:8080/"
        },
        "outputId": "7a0fc5bd-8b93-4c19-ee33-2e15faec65a2"
      },
      "outputs": [
        {
          "output_type": "stream",
          "name": "stderr",
          "text": [
            "/usr/local/lib/python3.8/dist-packages/pandas/core/frame.py:4906: SettingWithCopyWarning: \n",
            "A value is trying to be set on a copy of a slice from a DataFrame\n",
            "\n",
            "See the caveats in the documentation: https://pandas.pydata.org/pandas-docs/stable/user_guide/indexing.html#returning-a-view-versus-a-copy\n",
            "  return super().drop(\n"
          ]
        }
      ],
      "source": [
        "covid_died[\"DATE_DIED\"].min()\n",
        "covid_died.drop(covid_died[covid_died['time_elapsed'] < \"0 days\"].index, inplace = True)\n",
        "# there a few dates that slipped in that are before the 28 of feb.--> give a negative result "
      ]
    },
    {
      "cell_type": "code",
      "execution_count": 42,
      "metadata": {
        "id": "GDIiI8iGgDhR",
        "colab": {
          "base_uri": "https://localhost:8080/"
        },
        "outputId": "59f1c009-5fd4-4b01-f432-5336c24d8018"
      },
      "outputs": [
        {
          "output_type": "execute_result",
          "data": {
            "text/plain": [
              "Timedelta('0 days 00:00:00')"
            ]
          },
          "metadata": {},
          "execution_count": 42
        }
      ],
      "source": [
        "covid_died[\"time_elapsed\"].min()"
      ]
    },
    {
      "cell_type": "code",
      "execution_count": 43,
      "metadata": {
        "id": "UhlIg-pECUY3",
        "colab": {
          "base_uri": "https://localhost:8080/"
        },
        "outputId": "3f8dc10e-1318-4a44-b328-43b372d29dbe"
      },
      "outputs": [
        {
          "output_type": "stream",
          "name": "stderr",
          "text": [
            "<ipython-input-43-97921a4dfad7>:1: SettingWithCopyWarning: \n",
            "A value is trying to be set on a copy of a slice from a DataFrame.\n",
            "Try using .loc[row_indexer,col_indexer] = value instead\n",
            "\n",
            "See the caveats in the documentation: https://pandas.pydata.org/pandas-docs/stable/user_guide/indexing.html#returning-a-view-versus-a-copy\n",
            "  covid_died['time_elapsed_int'] = covid_died['time_elapsed'].dt.days.astype('int16')\n"
          ]
        }
      ],
      "source": [
        "covid_died['time_elapsed_int'] = covid_died['time_elapsed'].dt.days.astype('int16')"
      ]
    },
    {
      "cell_type": "markdown",
      "metadata": {
        "id": "_upySzEigEMm"
      },
      "source": [
        "First on how the death rate evolved over time, comparing died (in this data set all the patients died), with time elapsed "
      ]
    },
    {
      "cell_type": "code",
      "execution_count": 44,
      "metadata": {
        "id": "ur0ny4hWrXH5",
        "colab": {
          "base_uri": "https://localhost:8080/",
          "height": 312
        },
        "outputId": "a3cd46bf-200f-4077-ec1f-f54cd3807672"
      },
      "outputs": [
        {
          "output_type": "execute_result",
          "data": {
            "text/plain": [
              "Text(0.5, 1.0, 'Kepler Meier graph of patients who died of Covid')"
            ]
          },
          "metadata": {},
          "execution_count": 44
        },
        {
          "output_type": "display_data",
          "data": {
            "text/plain": [
              "<Figure size 432x288 with 1 Axes>"
            ],
            "image/png": "[encoded data removed]"
          },
          "metadata": {
            "needs_background": "light"
          }
        }
      ],
      "source": [
        "kmf = KaplanMeierFitter()\n",
        "\n",
        "kmf.fit(covid_died['time_elapsed_int'],covid_died['died'])\n",
        "kmf.plot_survival_function()\n",
        "plt.ylabel('Survival probability')\n",
        "plt.xlabel('Days since first covid diagnosis')\n",
        "plt.title(\"Kepler Meier graph of patients who died of Covid\")"
      ]
    },
    {
      "cell_type": "code",
      "execution_count": 45,
      "metadata": {
        "id": "MI_hl2aeuSSo",
        "colab": {
          "base_uri": "https://localhost:8080/"
        },
        "outputId": "dd4c3e55-12d0-4401-8c67-e82b9cf48dbc"
      },
      "outputs": [
        {
          "output_type": "stream",
          "name": "stderr",
          "text": [
            "/usr/local/lib/python3.8/dist-packages/pandas/core/frame.py:4906: SettingWithCopyWarning: \n",
            "A value is trying to be set on a copy of a slice from a DataFrame\n",
            "\n",
            "See the caveats in the documentation: https://pandas.pydata.org/pandas-docs/stable/user_guide/indexing.html#returning-a-view-versus-a-copy\n",
            "  return super().drop(\n"
          ]
        }
      ],
      "source": [
        "covid_died.drop(covid_died[covid_died['PNEUMONIA'] == 99].index, inplace = True)   "
      ]
    },
    {
      "cell_type": "markdown",
      "source": [
        "Checked if penumonia needed any filtering, only have 1/2 no filtering needed"
      ],
      "metadata": {
        "id": "XvaN6KtEglf1"
      }
    },
    {
      "cell_type": "code",
      "execution_count": 46,
      "metadata": {
        "id": "0_myxlWH5sP2",
        "colab": {
          "base_uri": "https://localhost:8080/"
        },
        "outputId": "f6c40165-44f5-4b69-abd4-42400da36e27"
      },
      "outputs": [
        {
          "output_type": "execute_result",
          "data": {
            "text/plain": [
              "1    22157\n",
              "2    15741\n",
              "Name: PNEUMONIA, dtype: int64"
            ]
          },
          "metadata": {},
          "execution_count": 46
        }
      ],
      "source": [
        "covid_died['PNEUMONIA'].value_counts()"
      ]
    },
    {
      "cell_type": "code",
      "execution_count": 47,
      "metadata": {
        "id": "DvRFJjdhcQs-",
        "colab": {
          "base_uri": "https://localhost:8080/",
          "height": 346
        },
        "outputId": "103546a3-b8e4-4d70-f41d-1c1b83e9306c"
      },
      "outputs": [
        {
          "output_type": "stream",
          "name": "stdout",
          "text": [
            "1\n",
            "2\n"
          ]
        },
        {
          "output_type": "execute_result",
          "data": {
            "text/plain": [
              "Text(0.5, 0, 'Days since first covid diagnosis')"
            ]
          },
          "metadata": {},
          "execution_count": 47
        },
        {
          "output_type": "display_data",
          "data": {
            "text/plain": [
              "<Figure size 432x288 with 1 Axes>"
            ],
            "image/png": "[encoded data removed]"
          },
          "metadata": {
            "needs_background": "light"
          }
        }
      ],
      "source": [
        "kmf = {}\n",
        "legend=[\"\",\"positive to pneumonia\", \"negative to pneumonia\"]\n",
        "#1 means \"yes\" and 2 means \"no\"\n",
        "for i in covid_died['PNEUMONIA'].unique():\n",
        "  print(i)\n",
        "  kmf[i] = KaplanMeierFitter()\n",
        "  df1 = covid_died[covid_died['PNEUMONIA'] == i]\n",
        "  kmf[i].fit(df1['time_elapsed_int'], event_observed=df1['died'])\n",
        "  kmf[i].plot_survival_function(label = legend[i])\n",
        "\n",
        "plt.ylabel('Survival probability')  \n",
        "plt.title(\"Kepler Meier graph of patients who died of Covid with or without pneumonia\")\n",
        "plt.xlabel('Days since first covid diagnosis')"
      ]
    },
    {
      "cell_type": "markdown",
      "metadata": {
        "id": "4qrhH2u2N74r"
      },
      "source": [
        "In this data set all the people have died, and the difference between people with or without on death outcome is minimal. This is also seen later in the modelling part, where pneumonia does play a role but is not very important."
      ]
    },
    {
      "cell_type": "code",
      "execution_count": 48,
      "metadata": {
        "id": "Y0VcBVNQ8jT5",
        "colab": {
          "base_uri": "https://localhost:8080/"
        },
        "outputId": "97347134-85ee-4c9e-ccc3-5733fcd06ca1"
      },
      "outputs": [
        {
          "output_type": "execute_result",
          "data": {
            "text/plain": [
              "645"
            ]
          },
          "metadata": {},
          "execution_count": 48
        }
      ],
      "source": [
        "covid_died[\"time_elapsed_int\"].max()"
      ]
    },
    {
      "cell_type": "markdown",
      "metadata": {
        "id": "L4baBe_Cgh9X"
      },
      "source": [
        "# ML"
      ]
    },
    {
      "cell_type": "markdown",
      "metadata": {
        "id": "_etvZWCYgg9E"
      },
      "source": [
        "Predict your outcome of interest according to 2 distinct machine learning methods that we have learnt.\n",
        "For each prediction, show confusion plot of the train and test dataset and indicate:\n",
        "accuracy;\n",
        "precision;\n",
        "recall.\n",
        "Interpret the results from each ML method, and comment how the predictions could be improved.\n",
        "Examples\n",
        "Use Random Forest classifier and K-NN classifier to predict whether a patient will die of COVID.\n"
      ]
    },
    {
      "cell_type": "markdown",
      "metadata": {
        "id": "WKMsKrZTLR3a"
      },
      "source": [
        "Random Forest classifier:\n",
        "\n",
        "1.   Initial ML\n",
        "2.   Optimisation with searchCV \n",
        "\n"
      ]
    },
    {
      "cell_type": "markdown",
      "source": [
        "Here the data was processed for the machine learning part."
      ],
      "metadata": {
        "id": "rWzCiE_TgyhV"
      }
    },
    {
      "cell_type": "code",
      "execution_count": 49,
      "metadata": {
        "id": "bqhsj0bWfHWH",
        "colab": {
          "base_uri": "https://localhost:8080/"
        },
        "outputId": "d3c56aaf-456f-42ef-9407-bf65deceac03"
      },
      "outputs": [
        {
          "output_type": "stream",
          "name": "stderr",
          "text": [
            "<ipython-input-49-ecba0c26330d>:1: SettingWithCopyWarning: \n",
            "A value is trying to be set on a copy of a slice from a DataFrame.\n",
            "Try using .loc[row_indexer,col_indexer] = value instead\n",
            "\n",
            "See the caveats in the documentation: https://pandas.pydata.org/pandas-docs/stable/user_guide/indexing.html#returning-a-view-versus-a-copy\n",
            "  covid_alive[\"died\"]=0 #0 means ALIVE\n",
            "<ipython-input-49-ecba0c26330d>:2: SettingWithCopyWarning: \n",
            "A value is trying to be set on a copy of a slice from a DataFrame.\n",
            "Try using .loc[row_indexer,col_indexer] = value instead\n",
            "\n",
            "See the caveats in the documentation: https://pandas.pydata.org/pandas-docs/stable/user_guide/indexing.html#returning-a-view-versus-a-copy\n",
            "  covid_died1[\"died\"]=1  #1 means DEAD\n"
          ]
        }
      ],
      "source": [
        "covid_alive[\"died\"]=0 #0 means ALIVE\n",
        "covid_died1[\"died\"]=1  #1 means DEAD\n",
        "# divided the data sets based on dead or not\n",
        "df1= pd.merge(covid_died1, covid_alive, how=\"outer\")"
      ]
    },
    {
      "cell_type": "markdown",
      "metadata": {
        "id": "GJGcneDMg7PF"
      },
      "source": [
        "Used the data set, without the time elapsed or date died. The outcome was if the patient had died or not\n",
        "\n",
        "\n",
        "In this version of the code, all the other parameters were used (can be seen in the variable features)"
      ]
    },
    {
      "cell_type": "code",
      "execution_count": 50,
      "metadata": {
        "id": "MFTXWR7r5TFH",
        "colab": {
          "base_uri": "https://localhost:8080/",
          "height": 483
        },
        "outputId": "bd82e516-4661-4cd7-c3b2-cd11f3b0f92a"
      },
      "outputs": [
        {
          "output_type": "execute_result",
          "data": {
            "text/plain": [
              "       USMER  MEDICAL_UNIT  SEX  PATIENT_TYPE   DATE_DIED  INTUBED  PNEUMONIA  \\\n",
              "0          2             1    1             1  03/05/2020       97          1   \n",
              "1          2             1    2             1  03/06/2020       97          1   \n",
              "2          2             1    2             2  09/06/2020        1          2   \n",
              "3          2             1    1             1  12/06/2020       97          2   \n",
              "4          2             1    2             1  21/06/2020       97          2   \n",
              "...      ...           ...  ...           ...         ...      ...        ...   \n",
              "58839      2             4    2             2  9999-99-99        1          2   \n",
              "58840      2             4    1             1  9999-99-99       97          1   \n",
              "58841      2             4    2             1  9999-99-99       97          2   \n",
              "58842      1             4    2             2  9999-99-99        2          2   \n",
              "58843      1             4    2             1  9999-99-99       97          2   \n",
              "\n",
              "       AGE  PREGNANT  DIABETES  ...  INMSUPR  HIPERTENSION  OTHER_DISEASE  \\\n",
              "0       65         2         2  ...        2             1              2   \n",
              "1       72        97         2  ...        2             1              2   \n",
              "2       55        97         1  ...        2             2              2   \n",
              "3       53         2         2  ...        2             2              2   \n",
              "4       68        97         1  ...        2             1              2   \n",
              "...    ...       ...       ...  ...      ...           ...            ...   \n",
              "58839   43        97         2  ...        2             2              2   \n",
              "58840   32         2         2  ...        2             2              2   \n",
              "58841   42        97         2  ...        1             2              1   \n",
              "58842   39        97         2  ...        2             2              2   \n",
              "58843   49        97         1  ...        2             2              2   \n",
              "\n",
              "       CARDIOVASCULAR  OBESITY  RENAL_CHRONIC  TOBACCO  CLASIFFICATION_FINAL  \\\n",
              "0                   2        2              2        2                     3   \n",
              "1                   2        1              1        2                     5   \n",
              "2                   2        2              2        2                     3   \n",
              "3                   2        2              2        2                     7   \n",
              "4                   2        2              2        2                     3   \n",
              "...               ...      ...            ...      ...                   ...   \n",
              "58839               2        2              2        2                     3   \n",
              "58840               2        1              2        2                     3   \n",
              "58841               2        2              2        2                     3   \n",
              "58842               2        1              2        1                     3   \n",
              "58843               2        2              2        1                     3   \n",
              "\n",
              "       ICU  died  \n",
              "0       97     1  \n",
              "1       97     1  \n",
              "2        2     1  \n",
              "3       97     1  \n",
              "4       97     1  \n",
              "...    ...   ...  \n",
              "58839    1     0  \n",
              "58840   97     0  \n",
              "58841   97     0  \n",
              "58842    2     0  \n",
              "58843   97     0  \n",
              "\n",
              "[58844 rows x 22 columns]"
            ],
            "text/html": [
              "\n",
              "  <div id=\"df-8f7e4bb7-9885-4caf-8f4c-89a22332075c\">\n",
              "    <div class=\"colab-df-container\">\n",
              "      <div>\n",
              "<style scoped>\n",
              "    .dataframe tbody tr th:only-of-type {\n",
              "        vertical-align: middle;\n",
              "    }\n",
              "\n",
              "    .dataframe tbody tr th {\n",
              "        vertical-align: top;\n",
              "    }\n",
              "\n",
              "    .dataframe thead th {\n",
              "        text-align: right;\n",
              "    }\n",
              "</style>\n",
              "<table border=\"1\" class=\"dataframe\">\n",
              "  <thead>\n",
              "    <tr style=\"text-align: right;\">\n",
              "      <th></th>\n",
              "      <th>USMER</th>\n",
              "      <th>MEDICAL_UNIT</th>\n",
              "      <th>SEX</th>\n",
              "      <th>PATIENT_TYPE</th>\n",
              "      <th>DATE_DIED</th>\n",
              "      <th>INTUBED</th>\n",
              "      <th>PNEUMONIA</th>\n",
              "      <th>AGE</th>\n",
              "      <th>PREGNANT</th>\n",
              "      <th>DIABETES</th>\n",
              "      <th>...</th>\n",
              "      <th>INMSUPR</th>\n",
              "      <th>HIPERTENSION</th>\n",
              "      <th>OTHER_DISEASE</th>\n",
              "      <th>CARDIOVASCULAR</th>\n",
              "      <th>OBESITY</th>\n",
              "      <th>RENAL_CHRONIC</th>\n",
              "      <th>TOBACCO</th>\n",
              "      <th>CLASIFFICATION_FINAL</th>\n",
              "      <th>ICU</th>\n",
              "      <th>died</th>\n",
              "    </tr>\n",
              "  </thead>\n",
              "  <tbody>\n",
              "    <tr>\n",
              "      <th>0</th>\n",
              "      <td>2</td>\n",
              "      <td>1</td>\n",
              "      <td>1</td>\n",
              "      <td>1</td>\n",
              "      <td>03/05/2020</td>\n",
              "      <td>97</td>\n",
              "      <td>1</td>\n",
              "      <td>65</td>\n",
              "      <td>2</td>\n",
              "      <td>2</td>\n",
              "      <td>...</td>\n",
              "      <td>2</td>\n",
              "      <td>1</td>\n",
              "      <td>2</td>\n",
              "      <td>2</td>\n",
              "      <td>2</td>\n",
              "      <td>2</td>\n",
              "      <td>2</td>\n",
              "      <td>3</td>\n",
              "      <td>97</td>\n",
              "      <td>1</td>\n",
              "    </tr>\n",
              "    <tr>\n",
              "      <th>1</th>\n",
              "      <td>2</td>\n",
              "      <td>1</td>\n",
              "      <td>2</td>\n",
              "      <td>1</td>\n",
              "      <td>03/06/2020</td>\n",
              "      <td>97</td>\n",
              "      <td>1</td>\n",
              "      <td>72</td>\n",
              "      <td>97</td>\n",
              "      <td>2</td>\n",
              "      <td>...</td>\n",
              "      <td>2</td>\n",
              "      <td>1</td>\n",
              "      <td>2</td>\n",
              "      <td>2</td>\n",
              "      <td>1</td>\n",
              "      <td>1</td>\n",
              "      <td>2</td>\n",
              "      <td>5</td>\n",
              "      <td>97</td>\n",
              "      <td>1</td>\n",
              "    </tr>\n",
              "    <tr>\n",
              "      <th>2</th>\n",
              "      <td>2</td>\n",
              "      <td>1</td>\n",
              "      <td>2</td>\n",
              "      <td>2</td>\n",
              "      <td>09/06/2020</td>\n",
              "      <td>1</td>\n",
              "      <td>2</td>\n",
              "      <td>55</td>\n",
              "      <td>97</td>\n",
              "      <td>1</td>\n",
              "      <td>...</td>\n",
              "      <td>2</td>\n",
              "      <td>2</td>\n",
              "      <td>2</td>\n",
              "      <td>2</td>\n",
              "      <td>2</td>\n",
              "      <td>2</td>\n",
              "      <td>2</td>\n",
              "      <td>3</td>\n",
              "      <td>2</td>\n",
              "      <td>1</td>\n",
              "    </tr>\n",
              "    <tr>\n",
              "      <th>3</th>\n",
              "      <td>2</td>\n",
              "      <td>1</td>\n",
              "      <td>1</td>\n",
              "      <td>1</td>\n",
              "      <td>12/06/2020</td>\n",
              "      <td>97</td>\n",
              "      <td>2</td>\n",
              "      <td>53</td>\n",
              "      <td>2</td>\n",
              "      <td>2</td>\n",
              "      <td>...</td>\n",
              "      <td>2</td>\n",
              "      <td>2</td>\n",
              "      <td>2</td>\n",
              "      <td>2</td>\n",
              "      <td>2</td>\n",
              "      <td>2</td>\n",
              "      <td>2</td>\n",
              "      <td>7</td>\n",
              "      <td>97</td>\n",
              "      <td>1</td>\n",
              "    </tr>\n",
              "    <tr>\n",
              "      <th>4</th>\n",
              "      <td>2</td>\n",
              "      <td>1</td>\n",
              "      <td>2</td>\n",
              "      <td>1</td>\n",
              "      <td>21/06/2020</td>\n",
              "      <td>97</td>\n",
              "      <td>2</td>\n",
              "      <td>68</td>\n",
              "      <td>97</td>\n",
              "      <td>1</td>\n",
              "      <td>...</td>\n",
              "      <td>2</td>\n",
              "      <td>1</td>\n",
              "      <td>2</td>\n",
              "      <td>2</td>\n",
              "      <td>2</td>\n",
              "      <td>2</td>\n",
              "      <td>2</td>\n",
              "      <td>3</td>\n",
              "      <td>97</td>\n",
              "      <td>1</td>\n",
              "    </tr>\n",
              "    <tr>\n",
              "      <th>...</th>\n",
              "      <td>...</td>\n",
              "      <td>...</td>\n",
              "      <td>...</td>\n",
              "      <td>...</td>\n",
              "      <td>...</td>\n",
              "      <td>...</td>\n",
              "      <td>...</td>\n",
              "      <td>...</td>\n",
              "      <td>...</td>\n",
              "      <td>...</td>\n",
              "      <td>...</td>\n",
              "      <td>...</td>\n",
              "      <td>...</td>\n",
              "      <td>...</td>\n",
              "      <td>...</td>\n",
              "      <td>...</td>\n",
              "      <td>...</td>\n",
              "      <td>...</td>\n",
              "      <td>...</td>\n",
              "      <td>...</td>\n",
              "      <td>...</td>\n",
              "    </tr>\n",
              "    <tr>\n",
              "      <th>58839</th>\n",
              "      <td>2</td>\n",
              "      <td>4</td>\n",
              "      <td>2</td>\n",
              "      <td>2</td>\n",
              "      <td>9999-99-99</td>\n",
              "      <td>1</td>\n",
              "      <td>2</td>\n",
              "      <td>43</td>\n",
              "      <td>97</td>\n",
              "      <td>2</td>\n",
              "      <td>...</td>\n",
              "      <td>2</td>\n",
              "      <td>2</td>\n",
              "      <td>2</td>\n",
              "      <td>2</td>\n",
              "      <td>2</td>\n",
              "      <td>2</td>\n",
              "      <td>2</td>\n",
              "      <td>3</td>\n",
              "      <td>1</td>\n",
              "      <td>0</td>\n",
              "    </tr>\n",
              "    <tr>\n",
              "      <th>58840</th>\n",
              "      <td>2</td>\n",
              "      <td>4</td>\n",
              "      <td>1</td>\n",
              "      <td>1</td>\n",
              "      <td>9999-99-99</td>\n",
              "      <td>97</td>\n",
              "      <td>1</td>\n",
              "      <td>32</td>\n",
              "      <td>2</td>\n",
              "      <td>2</td>\n",
              "      <td>...</td>\n",
              "      <td>2</td>\n",
              "      <td>2</td>\n",
              "      <td>2</td>\n",
              "      <td>2</td>\n",
              "      <td>1</td>\n",
              "      <td>2</td>\n",
              "      <td>2</td>\n",
              "      <td>3</td>\n",
              "      <td>97</td>\n",
              "      <td>0</td>\n",
              "    </tr>\n",
              "    <tr>\n",
              "      <th>58841</th>\n",
              "      <td>2</td>\n",
              "      <td>4</td>\n",
              "      <td>2</td>\n",
              "      <td>1</td>\n",
              "      <td>9999-99-99</td>\n",
              "      <td>97</td>\n",
              "      <td>2</td>\n",
              "      <td>42</td>\n",
              "      <td>97</td>\n",
              "      <td>2</td>\n",
              "      <td>...</td>\n",
              "      <td>1</td>\n",
              "      <td>2</td>\n",
              "      <td>1</td>\n",
              "      <td>2</td>\n",
              "      <td>2</td>\n",
              "      <td>2</td>\n",
              "      <td>2</td>\n",
              "      <td>3</td>\n",
              "      <td>97</td>\n",
              "      <td>0</td>\n",
              "    </tr>\n",
              "    <tr>\n",
              "      <th>58842</th>\n",
              "      <td>1</td>\n",
              "      <td>4</td>\n",
              "      <td>2</td>\n",
              "      <td>2</td>\n",
              "      <td>9999-99-99</td>\n",
              "      <td>2</td>\n",
              "      <td>2</td>\n",
              "      <td>39</td>\n",
              "      <td>97</td>\n",
              "      <td>2</td>\n",
              "      <td>...</td>\n",
              "      <td>2</td>\n",
              "      <td>2</td>\n",
              "      <td>2</td>\n",
              "      <td>2</td>\n",
              "      <td>1</td>\n",
              "      <td>2</td>\n",
              "      <td>1</td>\n",
              "      <td>3</td>\n",
              "      <td>2</td>\n",
              "      <td>0</td>\n",
              "    </tr>\n",
              "    <tr>\n",
              "      <th>58843</th>\n",
              "      <td>1</td>\n",
              "      <td>4</td>\n",
              "      <td>2</td>\n",
              "      <td>1</td>\n",
              "      <td>9999-99-99</td>\n",
              "      <td>97</td>\n",
              "      <td>2</td>\n",
              "      <td>49</td>\n",
              "      <td>97</td>\n",
              "      <td>1</td>\n",
              "      <td>...</td>\n",
              "      <td>2</td>\n",
              "      <td>2</td>\n",
              "      <td>2</td>\n",
              "      <td>2</td>\n",
              "      <td>2</td>\n",
              "      <td>2</td>\n",
              "      <td>1</td>\n",
              "      <td>3</td>\n",
              "      <td>97</td>\n",
              "      <td>0</td>\n",
              "    </tr>\n",
              "  </tbody>\n",
              "</table>\n",
              "<p>58844 rows × 22 columns</p>\n",
              "</div>\n",
              "      <button class=\"colab-df-convert\" onclick=\"convertToInteractive('df-8f7e4bb7-9885-4caf-8f4c-89a22332075c')\"\n",
              "              title=\"Convert this dataframe to an interactive table.\"\n",
              "              style=\"display:none;\">\n",
              "        \n",
              "  <svg xmlns=\"http://www.w3.org/2000/svg\" height=\"24px\"viewBox=\"0 0 24 24\"\n",
              "       width=\"24px\">\n",
              "    <path d=\"M0 0h24v24H0V0z\" fill=\"none\"/>\n",
              "    <path d=\"M18.56 5.44l.94 2.06.94-2.06 2.06-.94-2.06-.94-.94-2.06-.94 2.06-2.06.94zm-11 1L8.5 8.5l.94-2.06 2.06-.94-2.06-.94L8.5 2.5l-.94 2.06-2.06.94zm10 10l.94 2.06.94-2.06 2.06-.94-2.06-.94-.94-2.06-.94 2.06-2.06.94z\"/><path d=\"M17.41 7.96l-1.37-1.37c-.4-.4-.92-.59-1.43-.59-.52 0-1.04.2-1.43.59L10.3 9.45l-7.72 7.72c-.78.78-.78 2.05 0 2.83L4 21.41c.39.39.9.59 1.41.59.51 0 1.02-.2 1.41-.59l7.78-7.78 2.81-2.81c.8-.78.8-2.07 0-2.86zM5.41 20L4 18.59l7.72-7.72 1.47 1.35L5.41 20z\"/>\n",
              "  </svg>\n",
              "      </button>\n",
              "      \n",
              "  <style>\n",
              "    .colab-df-container {\n",
              "      display:flex;\n",
              "      flex-wrap:wrap;\n",
              "      gap: 12px;\n",
              "    }\n",
              "\n",
              "    .colab-df-convert {\n",
              "      background-color: #E8F0FE;\n",
              "      border: none;\n",
              "      border-radius: 50%;\n",
              "      cursor: pointer;\n",
              "      display: none;\n",
              "      fill: #1967D2;\n",
              "      height: 32px;\n",
              "      padding: 0 0 0 0;\n",
              "      width: 32px;\n",
              "    }\n",
              "\n",
              "    .colab-df-convert:hover {\n",
              "      background-color: #E2EBFA;\n",
              "      box-shadow: 0px 1px 2px rgba(60, 64, 67, 0.3), 0px 1px 3px 1px rgba(60, 64, 67, 0.15);\n",
              "      fill: #174EA6;\n",
              "    }\n",
              "\n",
              "    [theme=dark] .colab-df-convert {\n",
              "      background-color: #3B4455;\n",
              "      fill: #D2E3FC;\n",
              "    }\n",
              "\n",
              "    [theme=dark] .colab-df-convert:hover {\n",
              "      background-color: #434B5C;\n",
              "      box-shadow: 0px 1px 3px 1px rgba(0, 0, 0, 0.15);\n",
              "      filter: drop-shadow(0px 1px 2px rgba(0, 0, 0, 0.3));\n",
              "      fill: #FFFFFF;\n",
              "    }\n",
              "  </style>\n",
              "\n",
              "      <script>\n",
              "        const buttonEl =\n",
              "          document.querySelector('#df-8f7e4bb7-9885-4caf-8f4c-89a22332075c button.colab-df-convert');\n",
              "        buttonEl.style.display =\n",
              "          google.colab.kernel.accessAllowed ? 'block' : 'none';\n",
              "\n",
              "        async function convertToInteractive(key) {\n",
              "          const element = document.querySelector('#df-8f7e4bb7-9885-4caf-8f4c-89a22332075c');\n",
              "          const dataTable =\n",
              "            await google.colab.kernel.invokeFunction('convertToInteractive',\n",
              "                                                     [key], {});\n",
              "          if (!dataTable) return;\n",
              "\n",
              "          const docLinkHtml = 'Like what you see? Visit the ' +\n",
              "            '<a target=\"_blank\" href=https://colab.research.google.com/notebooks/data_table.ipynb>data table notebook</a>'\n",
              "            + ' to learn more about interactive tables.';\n",
              "          element.innerHTML = '';\n",
              "          dataTable['output_type'] = 'display_data';\n",
              "          await google.colab.output.renderOutput(dataTable, element);\n",
              "          const docLink = document.createElement('div');\n",
              "          docLink.innerHTML = docLinkHtml;\n",
              "          element.appendChild(docLink);\n",
              "        }\n",
              "      </script>\n",
              "    </div>\n",
              "  </div>\n",
              "  "
            ]
          },
          "metadata": {},
          "execution_count": 50
        }
      ],
      "source": [
        "df1"
      ]
    },
    {
      "cell_type": "code",
      "execution_count": 51,
      "metadata": {
        "id": "vdcUTGkAkrjS",
        "colab": {
          "base_uri": "https://localhost:8080/"
        },
        "outputId": "fdc39c99-28bf-4cb9-eb2a-f9ffa1305a7a"
      },
      "outputs": [
        {
          "output_type": "execute_result",
          "data": {
            "text/plain": [
              "2    45308\n",
              "1    13536\n",
              "Name: PATIENT_TYPE, dtype: int64"
            ]
          },
          "metadata": {},
          "execution_count": 51
        }
      ],
      "source": [
        "df1[\"PATIENT_TYPE\"].value_counts()"
      ]
    },
    {
      "cell_type": "code",
      "execution_count": 52,
      "metadata": {
        "id": "ReWwIwzXcNGM",
        "colab": {
          "base_uri": "https://localhost:8080/"
        },
        "outputId": "da074d05-1ac8-4147-a58e-17aa2de4b95b"
      },
      "outputs": [
        {
          "output_type": "execute_result",
          "data": {
            "text/plain": [
              "2     23685\n",
              "1       291\n",
              "98       42\n",
              "Name: PREGNANT, dtype: int64"
            ]
          },
          "metadata": {},
          "execution_count": 52
        }
      ],
      "source": [
        "df1[df1[\"SEX\"]==1][\"PREGNANT\"].value_counts()\n",
        "# 1 is female, there are 98 non values--> delete "
      ]
    },
    {
      "cell_type": "code",
      "execution_count": 53,
      "metadata": {
        "id": "gmGfxEo-c6FS"
      },
      "outputs": [],
      "source": [
        "df1.drop(df1[(df1[\"SEX\"]==1) & (df1[\"PREGNANT\"]==98)].index, inplace = True)\n",
        "# Dropping all of the females with 98, as we don't know if they are pregnant or not \n",
        "# 1 means \"yes\" and 2 means \"no\""
      ]
    },
    {
      "cell_type": "code",
      "execution_count": 54,
      "metadata": {
        "id": "3x8TrgmLd3Fj",
        "colab": {
          "base_uri": "https://localhost:8080/"
        },
        "outputId": "5f08f78c-9e2f-4637-c593-0405a35cd9cb"
      },
      "outputs": [
        {
          "output_type": "execute_result",
          "data": {
            "text/plain": [
              "97    34826\n",
              "Name: PREGNANT, dtype: int64"
            ]
          },
          "metadata": {},
          "execution_count": 54
        }
      ],
      "source": [
        "df1[df1[\"SEX\"]==2][\"PREGNANT\"].value_counts()\n",
        "# these are all males, can change the value to 2, not pregnant"
      ]
    },
    {
      "cell_type": "code",
      "execution_count": 55,
      "metadata": {
        "id": "5JselLyneG4g"
      },
      "outputs": [],
      "source": [
        "# changing the values for all males to 2, not pregnant \n",
        "df1['PREGNANT'] = df['PREGNANT'].replace([97], [2])"
      ]
    },
    {
      "cell_type": "code",
      "execution_count": 56,
      "metadata": {
        "id": "SC1uV6s002tP",
        "colab": {
          "base_uri": "https://localhost:8080/"
        },
        "outputId": "a667bd72-9bb2-496c-b1f6-0e0202cceb0e"
      },
      "outputs": [
        {
          "output_type": "execute_result",
          "data": {
            "text/plain": [
              "2     42637\n",
              "97    13510\n",
              "1      1692\n",
              "99      963\n",
              "Name: ICU, dtype: int64"
            ]
          },
          "metadata": {},
          "execution_count": 56
        }
      ],
      "source": [
        "df1[\"ICU\"].value_counts()"
      ]
    },
    {
      "cell_type": "code",
      "source": [
        "for col in df1.columns:\n",
        "  df1[col] = df1[col].replace([2], [0]) \n",
        "  # 1 means yes, 2 means no --> change to 2 to 0 in binary \n",
        "  # 1 is female, 2 is male --> change 2 to 0, 0 is male \n",
        "  # 1 is dead, 0 is alive "
      ],
      "metadata": {
        "id": "8rBVeMG39qqI"
      },
      "execution_count": 57,
      "outputs": []
    },
    {
      "cell_type": "markdown",
      "source": [
        "Needed to one-hot encote medical unit as it isn't a binary number"
      ],
      "metadata": {
        "id": "rUdXZqaw83oN"
      }
    },
    {
      "cell_type": "code",
      "source": [
        "df1= pd.get_dummies(df1,columns=[\"MEDICAL_UNIT\"]) "
      ],
      "metadata": {
        "id": "jqdSj6qe8HLl"
      },
      "execution_count": 58,
      "outputs": []
    },
    {
      "cell_type": "code",
      "execution_count": 59,
      "metadata": {
        "id": "Rd5HsSS0Y9I1",
        "colab": {
          "base_uri": "https://localhost:8080/"
        },
        "outputId": "c1aab171-fee5-43bc-9cb8-e3c5e60a997c"
      },
      "outputs": [
        {
          "output_type": "stream",
          "name": "stdout",
          "text": [
            "len of all features 25\n"
          ]
        }
      ],
      "source": [
        "features_filter = list(df1.columns)\n",
        "print(\"len of all features\", len(features_filter))\n",
        "features_filter.remove(\"AGE\")\n",
        "features_filter.remove(\"DATE_DIED\")\n",
        "features_filter.remove(\"CLASIFFICATION_FINAL\")"
      ]
    },
    {
      "cell_type": "code",
      "execution_count": 60,
      "metadata": {
        "id": "encRM0ITYbbA"
      },
      "outputs": [],
      "source": [
        "for i in range(len(features_filter)):\n",
        "  df1.drop(df1[df1[features_filter[i]] == 97].index, inplace = True)\n",
        "  df1.drop(df1[df1[features_filter[i]] == 99].index, inplace = True)\n",
        "  df1.drop(df1[df1[features_filter[i]] == 98].index, inplace = True)"
      ]
    },
    {
      "cell_type": "markdown",
      "source": [
        "After processing the data, the different types of data for each column were checked with .unique()"
      ],
      "metadata": {
        "id": "4GbowHc331k9"
      }
    },
    {
      "cell_type": "code",
      "source": [
        "for col in df1.columns:\n",
        "  print(col, df1[col].unique())"
      ],
      "metadata": {
        "colab": {
          "base_uri": "https://localhost:8080/"
        },
        "id": "Bz4wgMx42KU-",
        "outputId": "b83799ff-1c03-4e9d-a9eb-a51b69498286"
      },
      "execution_count": 61,
      "outputs": [
        {
          "output_type": "stream",
          "name": "stdout",
          "text": [
            "USMER [0 1]\n",
            "SEX [0 1]\n",
            "PATIENT_TYPE [0]\n",
            "DATE_DIED ['09/06/2020' '05/04/2020' '08/05/2020' '20/05/2020' '18/02/2020'\n",
            " '07/03/2020' '14/03/2020' '18/03/2020' '27/03/2020' '28/03/2020'\n",
            " '29/03/2020' '02/04/2020' '06/04/2020' '07/04/2020' '08/04/2020'\n",
            " '09/04/2020' '10/04/2020' '11/04/2020' '12/04/2020' '13/04/2020'\n",
            " '14/04/2020' '15/04/2020' '17/04/2020' '18/04/2020' '20/04/2020'\n",
            " '21/04/2020' '22/04/2020' '23/04/2020' '24/04/2020' '25/04/2020'\n",
            " '26/04/2020' '27/04/2020' '28/04/2020' '29/04/2020' '30/04/2020'\n",
            " '01/05/2020' '02/05/2020' '03/05/2020' '04/05/2020' '05/05/2020'\n",
            " '06/05/2020' '07/05/2020' '09/05/2020' '10/05/2020' '11/05/2020'\n",
            " '12/05/2020' '13/05/2020' '14/05/2020' '15/05/2020' '16/05/2020'\n",
            " '17/05/2020' '18/05/2020' '19/05/2020' '21/05/2020' '22/05/2020'\n",
            " '23/05/2020' '24/05/2020' '25/05/2020' '26/05/2020' '27/05/2020'\n",
            " '28/05/2020' '29/05/2020' '30/05/2020' '31/05/2020' '01/06/2020'\n",
            " '02/06/2020' '03/06/2020' '04/06/2020' '05/06/2020' '06/06/2020'\n",
            " '07/06/2020' '08/06/2020' '10/06/2020' '11/06/2020' '12/06/2020'\n",
            " '13/06/2020' '14/06/2020' '15/06/2020' '16/06/2020' '17/06/2020'\n",
            " '18/06/2020' '19/06/2020' '20/06/2020' '21/06/2020' '22/06/2020'\n",
            " '23/06/2020' '24/06/2020' '25/06/2020' '26/06/2020' '27/06/2020'\n",
            " '28/06/2020' '29/06/2020' '30/06/2020' '01/07/2020' '02/07/2020'\n",
            " '03/07/2020' '04/07/2020' '05/07/2020' '06/07/2020' '07/07/2020'\n",
            " '08/07/2020' '09/07/2020' '10/07/2020' '11/07/2020' '12/07/2020'\n",
            " '13/07/2020' '14/07/2020' '15/07/2020' '16/07/2020' '17/07/2020'\n",
            " '18/07/2020' '19/07/2020' '20/07/2020' '21/07/2020' '22/07/2020'\n",
            " '23/07/2020' '24/07/2020' '25/07/2020' '26/07/2020' '27/07/2020'\n",
            " '28/07/2020' '29/07/2020' '30/07/2020' '31/07/2020' '01/08/2020'\n",
            " '02/08/2020' '03/08/2020' '04/08/2020' '05/08/2020' '06/08/2020'\n",
            " '07/08/2020' '08/08/2020' '09/08/2020' '10/08/2020' '14/08/2020'\n",
            " '17/08/2020' '18/08/2020' '19/08/2020' '20/08/2020' '25/08/2020'\n",
            " '28/09/2020' '17/12/2020' '27/04/2021' '01/05/2021' '09/01/2020'\n",
            " '10/01/2020' '12/01/2020' '13/01/2020' '14/01/2020' '19/01/2020'\n",
            " '20/01/2020' '22/01/2020' '24/01/2020' '29/01/2020' '30/01/2020'\n",
            " '31/01/2020' '06/02/2020' '07/02/2020' '08/02/2020' '09/02/2020'\n",
            " '11/02/2020' '12/02/2020' '13/02/2020' '14/02/2020' '16/02/2020'\n",
            " '19/02/2020' '20/02/2020' '21/02/2020' '22/02/2020' '23/02/2020'\n",
            " '24/02/2020' '26/02/2020' '28/02/2020' '29/02/2020' '01/03/2020'\n",
            " '02/03/2020' '03/03/2020' '04/03/2020' '05/03/2020' '06/03/2020'\n",
            " '08/03/2020' '09/03/2020' '10/03/2020' '11/03/2020' '12/03/2020'\n",
            " '13/03/2020' '15/03/2020' '16/03/2020' '17/03/2020' '19/03/2020'\n",
            " '20/03/2020' '21/03/2020' '22/03/2020' '23/03/2020' '24/03/2020'\n",
            " '25/03/2020' '26/03/2020' '30/03/2020' '31/03/2020' '01/04/2020'\n",
            " '03/04/2020' '04/04/2020' '16/04/2020' '19/04/2020' '11/08/2020'\n",
            " '12/08/2020' '13/08/2020' '15/08/2020' '16/08/2020' '21/08/2020'\n",
            " '22/08/2020' '23/08/2020' '24/08/2020' '26/08/2020' '27/08/2020'\n",
            " '28/08/2020' '29/08/2020' '31/08/2020' '02/09/2020' '03/09/2020'\n",
            " '04/09/2020' '05/09/2020' '06/09/2020' '07/09/2020' '08/09/2020'\n",
            " '14/09/2020' '16/09/2020' '17/09/2020' '18/09/2020' '19/09/2020'\n",
            " '20/09/2020' '21/09/2020' '23/09/2020' '24/09/2020' '27/09/2020'\n",
            " '05/10/2020' '12/10/2020' '14/10/2020' '16/10/2020' '18/10/2020'\n",
            " '20/10/2020' '25/10/2020' '30/10/2020' '04/11/2020' '06/11/2020'\n",
            " '08/11/2020' '12/11/2020' '24/11/2020' '15/01/2021' '19/01/2021'\n",
            " '20/01/2021' '21/01/2021' '24/01/2021' '25/01/2021' '27/01/2021'\n",
            " '28/01/2021' '31/01/2021' '01/02/2021' '03/02/2021' '04/02/2021'\n",
            " '06/02/2021' '08/02/2021' '10/02/2021' '11/02/2021' '12/02/2021'\n",
            " '18/02/2021' '20/02/2021' '25/02/2021' '26/02/2021' '27/02/2021'\n",
            " '07/03/2021' '29/03/2021' '30/03/2021' '01/04/2021' '12/04/2021'\n",
            " '14/04/2021' '15/04/2021' '16/04/2021' '17/04/2021' '18/04/2021'\n",
            " '25/04/2021' '26/04/2021' '28/04/2021' '29/04/2021' '30/04/2021'\n",
            " '02/05/2021' '9999-99-99']\n",
            "INTUBED [1 0]\n",
            "PNEUMONIA [0 1]\n",
            "AGE [ 55  14   0  17  43  64  54  59  49  88  47  86  53  90  61  73  87  60\n",
            "  42  72  63  62  74  83  57  68  84  66  26  45  70   1  58  65  80  75\n",
            "  79  50  82  51  67  56  69  77  92  52  78  71  76  48  32  46  39  41\n",
            "  20  44  40  81  38  36  30  37  85  23  89  31  34   3  10  24   7  97\n",
            "  25  93  95  35   5  27   6  91   4  33  12  98  18  15  99  29   8  13\n",
            "  28  19  94  11  21  16  22  96 100   9 103]\n",
            "PREGNANT [0 1]\n",
            "DIABETES [1 0]\n",
            "COPD [0 1]\n",
            "ASTHMA [0 1]\n",
            "INMSUPR [0 1]\n",
            "HIPERTENSION [0 1]\n",
            "OTHER_DISEASE [0 1]\n",
            "CARDIOVASCULAR [0 1]\n",
            "OBESITY [0 1]\n",
            "RENAL_CHRONIC [0 1]\n",
            "TOBACCO [0 1]\n",
            "CLASIFFICATION_FINAL [3 7 6 5 1 0 4]\n",
            "ICU [0 1]\n",
            "died [1 0]\n",
            "MEDICAL_UNIT_0 [0 1]\n",
            "MEDICAL_UNIT_1 [1 0]\n",
            "MEDICAL_UNIT_3 [0 1]\n",
            "MEDICAL_UNIT_4 [0 1]\n"
          ]
        }
      ]
    },
    {
      "cell_type": "markdown",
      "source": [
        "Check if there is a high correlation with the variables"
      ],
      "metadata": {
        "id": "xmpnV0eu_6-O"
      }
    },
    {
      "cell_type": "code",
      "source": [
        "features_filter = list(df1.columns)\n",
        "features_filter.remove(\"DATE_DIED\")\n",
        "features_filter.remove(\"CLASIFFICATION_FINAL\")\n",
        "features_filter.remove(\"died\")"
      ],
      "metadata": {
        "id": "NPy8UImc47Ii"
      },
      "execution_count": 62,
      "outputs": []
    },
    {
      "cell_type": "code",
      "source": [
        "plt.figure(figsize=(20,20))\n",
        "sns.heatmap(df1[features_filter].corr(),annot=True, cmap='RdBu', vmin=-1, vmax=1)\n",
        "plt.title('Correlation Matrix')"
      ],
      "metadata": {
        "colab": {
          "base_uri": "https://localhost:8080/",
          "height": 1000
        },
        "id": "XZbIxDk9_3hb",
        "outputId": "2f6344a1-51e1-49d5-e850-e946238d1413"
      },
      "execution_count": 63,
      "outputs": [
        {
          "output_type": "execute_result",
          "data": {
            "text/plain": [
              "Text(0.5, 1.0, 'Correlation Matrix')"
            ]
          },
          "metadata": {},
          "execution_count": 63
        },
        {
          "output_type": "display_data",
          "data": {
            "text/plain": [
              "<Figure size 1440x1440 with 2 Axes>"
            ],
            "image/png": "[encoded data removed]"
          },
          "metadata": {
            "needs_background": "light"
          }
        }
      ]
    },
    {
      "cell_type": "markdown",
      "source": [
        "Due to the high correlation of medical unit 3 and 4, medical unit 4 was omitted from the features data set (similar to what was done in class in the breast cancer data set, where radius perimeter and area had a high correlation and only one of the variables was kept."
      ],
      "metadata": {
        "id": "B5IhqOOWCDAg"
      }
    },
    {
      "cell_type": "code",
      "source": [
        "features_filter.remove(\"MEDICAL_UNIT_4\")\n",
        "len(features_filter)"
      ],
      "metadata": {
        "colab": {
          "base_uri": "https://localhost:8080/"
        },
        "id": "5ZMVFESl5YJ1",
        "outputId": "8f683184-57b1-44e8-998b-fb19c32e647f"
      },
      "execution_count": 64,
      "outputs": [
        {
          "output_type": "execute_result",
          "data": {
            "text/plain": [
              "21"
            ]
          },
          "metadata": {},
          "execution_count": 64
        }
      ]
    },
    {
      "cell_type": "code",
      "source": [
        "df1[\"PATIENT_TYPE\"].value_counts()"
      ],
      "metadata": {
        "colab": {
          "base_uri": "https://localhost:8080/"
        },
        "id": "eKNF73Xr_4pi",
        "outputId": "080f6c70-e271-488c-fa3a-7170950b0ce1"
      },
      "execution_count": 65,
      "outputs": [
        {
          "output_type": "execute_result",
          "data": {
            "text/plain": [
              "0    44143\n",
              "Name: PATIENT_TYPE, dtype: int64"
            ]
          },
          "metadata": {},
          "execution_count": 65
        }
      ]
    },
    {
      "cell_type": "markdown",
      "source": [
        "Patient type now only has 0, this was left in, in case that in the bigger data set on euler there were some differences in the data set."
      ],
      "metadata": {
        "id": "raZiyDlu5Oek"
      }
    },
    {
      "cell_type": "code",
      "execution_count": 66,
      "metadata": {
        "id": "xgTDvJE94-QB"
      },
      "outputs": [],
      "source": [
        "'''\n",
        "Initial features that were analysed, in this analysis all the features beside date died and classification were analysed\n",
        "features = df1[[\"MEDICAL_UNIT\",\"SEX\",\"AGE\",\"PATIENT_TYPE\",\"INTUBED\",\"PNEUMONIA\",\"DIABETES\",\"CARDIOVASCULAR\", \"TOBACCO\",\"OBESITY\", \"RENAL_CHRONIC\"]]\n",
        "values that we want to see how the correlation is \n",
        "features = np.array(features)\n",
        "'''\n",
        "features= df1[features_filter] #date died and classification final are already removed \n",
        "features= df1[[i for i in features if \"died\" not in i]]# need to remove died as this is what we are trying to predict\n",
        "labels = df1['died']# value that we want to predict "
      ]
    },
    {
      "cell_type": "code",
      "execution_count": 67,
      "metadata": {
        "id": "YjWr1KGc5yrp"
      },
      "outputs": [],
      "source": [
        "from sklearn.model_selection import train_test_split\n",
        "# splitting data set into training and testing\n",
        "train_features, test_features, train_labels, test_labels = train_test_split(features, labels, test_size = 0.25, random_state = 42, stratify = labels)\n",
        "# died, date died and classification final are removed from the feature data sets (22-3)=19"
      ]
    },
    {
      "cell_type": "code",
      "execution_count": 68,
      "metadata": {
        "id": "8cNPQXGbJU5T",
        "colab": {
          "base_uri": "https://localhost:8080/"
        },
        "outputId": "410e9ffb-5358-4477-cf20-4d4179fd57b3"
      },
      "outputs": [
        {
          "output_type": "stream",
          "name": "stdout",
          "text": [
            "Training Features Shape: (33107, 21)\n",
            "Training Labels Shape: (33107,)\n",
            "Testing Features Shape: (11036, 21)\n",
            "Testing Labels Shape: (11036,)\n"
          ]
        }
      ],
      "source": [
        "print('Training Features Shape:', train_features.shape)\n",
        "print('Training Labels Shape:', train_labels.shape)\n",
        "print('Testing Features Shape:', test_features.shape)\n",
        "print('Testing Labels Shape:', test_labels.shape)"
      ]
    },
    {
      "cell_type": "markdown",
      "metadata": {
        "id": "CpYO1JjHF3Ay"
      },
      "source": [
        "For the first model I choose a Random Forest Classifier "
      ]
    },
    {
      "cell_type": "code",
      "execution_count": 69,
      "metadata": {
        "id": "QhmonoNh7qV0",
        "colab": {
          "base_uri": "https://localhost:8080/"
        },
        "outputId": "befc7c9e-8e9e-4793-ee21-7efc8fbd175d"
      },
      "outputs": [
        {
          "output_type": "stream",
          "name": "stdout",
          "text": [
            "score 0.84\n"
          ]
        },
        {
          "output_type": "stream",
          "name": "stderr",
          "text": [
            "/usr/local/lib/python3.8/dist-packages/sklearn/base.py:450: UserWarning: X does not have valid feature names, but RandomForestClassifier was fitted with feature names\n",
            "  warnings.warn(\n"
          ]
        }
      ],
      "source": [
        "# Here the model was fitted with the TRAIN data set \n",
        "from sklearn import ensemble\n",
        "from sklearn.ensemble import RandomForestClassifier\n",
        "from sklearn import tree\n",
        "prediction_model =  ensemble.RandomForestClassifier(max_depth=3, criterion=\"gini\", random_state=2021).fit(train_features,train_labels)\n",
        "print (\"score %.2f\"%prediction_model.score(train_features.values, train_labels))\n",
        "# run the train model and see the score"
      ]
    },
    {
      "cell_type": "code",
      "execution_count": 70,
      "metadata": {
        "id": "3jGx6Jy67MVF",
        "colab": {
          "base_uri": "https://localhost:8080/",
          "height": 349
        },
        "outputId": "b3a4da3a-936f-4faa-9821-44e626f08cb5"
      },
      "outputs": [
        {
          "output_type": "stream",
          "name": "stderr",
          "text": [
            "/usr/local/lib/python3.8/dist-packages/sklearn/utils/deprecation.py:87: FutureWarning: Function plot_confusion_matrix is deprecated; Function `plot_confusion_matrix` is deprecated in 1.0 and will be removed in 1.2. Use one of the class methods: ConfusionMatrixDisplay.from_predictions or ConfusionMatrixDisplay.from_estimator.\n",
            "  warnings.warn(msg, category=FutureWarning)\n"
          ]
        },
        {
          "output_type": "display_data",
          "data": {
            "text/plain": [
              "<Figure size 432x288 with 2 Axes>"
            ],
            "image/png": "[encoded data removed]"
          },
          "metadata": {
            "needs_background": "light"
          }
        }
      ],
      "source": [
        "from sklearn.metrics import plot_confusion_matrix\n",
        "# see the confusion matrix for the model on TRAIN data set\n",
        "plot_confusion_matrix(prediction_model,train_features, train_labels, cmap='inferno',values_format='g')\n",
        "plt.title(\"Confusion matrix, train data set\")\n",
        "plt.show()"
      ]
    },
    {
      "cell_type": "code",
      "execution_count": 71,
      "metadata": {
        "id": "BVCcngbs21O0",
        "colab": {
          "base_uri": "https://localhost:8080/"
        },
        "outputId": "05d3055f-b9c6-4284-e13e-c8e887e2f100"
      },
      "outputs": [
        {
          "output_type": "stream",
          "name": "stdout",
          "text": [
            "Outcomes with RandomForestClassifier model with train set\n",
            "('Precision:', 0.837292817679558, 'Recall: ', 0.9986454825010983, 'Accuracy:', 0.8387652158153864, 'F1:', 0.9108788566849205)\n"
          ]
        }
      ],
      "source": [
        "# calculate the predicted survival rate, with the TRAIN features \n",
        "predicted_survival_train = prediction_model.predict(train_features)\n",
        "\n",
        "#function to print results with TRAIN set and prediction variable\n",
        "from sklearn import metrics\n",
        "def getresults(test,pred_variable):\n",
        "    return 'Precision:', metrics.precision_score(test,pred_variable), 'Recall: ', metrics.recall_score(test,pred_variable),\"Accuracy:\", metrics.accuracy_score(test,pred_variable), \"F1:\", metrics.f1_score(test,pred_variable)\n",
        "print(\"Outcomes with RandomForestClassifier model with train set\")\n",
        "print(getresults(train_labels,predicted_survival_train)) #need to have the labels here "
      ]
    },
    {
      "cell_type": "code",
      "execution_count": 72,
      "metadata": {
        "id": "_5diBijrHu1X",
        "colab": {
          "base_uri": "https://localhost:8080/",
          "height": 349
        },
        "outputId": "d8f9b57c-44e5-4597-e646-f3402910c10d"
      },
      "outputs": [
        {
          "output_type": "stream",
          "name": "stderr",
          "text": [
            "/usr/local/lib/python3.8/dist-packages/sklearn/utils/deprecation.py:87: FutureWarning: Function plot_confusion_matrix is deprecated; Function `plot_confusion_matrix` is deprecated in 1.0 and will be removed in 1.2. Use one of the class methods: ConfusionMatrixDisplay.from_predictions or ConfusionMatrixDisplay.from_estimator.\n",
            "  warnings.warn(msg, category=FutureWarning)\n"
          ]
        },
        {
          "output_type": "display_data",
          "data": {
            "text/plain": [
              "<Figure size 432x288 with 2 Axes>"
            ],
            "image/png": "[encoded data removed]"
          },
          "metadata": {
            "needs_background": "light"
          }
        }
      ],
      "source": [
        "#see the matrix with the TEST features \n",
        "from sklearn.metrics import plot_confusion_matrix\n",
        "\n",
        "plot_confusion_matrix(prediction_model,test_features, test_labels, cmap='inferno',values_format='g')\n",
        "plt.title(\"Confusion matrix, test data set\")\n",
        "plt.show()\n",
        "# train_prediction is the model in question, here done with the testing data set"
      ]
    },
    {
      "cell_type": "markdown",
      "source": [
        "0 means ALIVE, 1 is dead. As seen in the confusion matrix the model has difficult predicting alive people. One reason for this could be that multiple features are important, as seen in the feature importance graph, therefore it \"thinks\" they are dead when they have that feature "
      ],
      "metadata": {
        "id": "twM_6m9iPWJP"
      }
    },
    {
      "cell_type": "code",
      "execution_count": 73,
      "metadata": {
        "id": "ZDqdpB4S4TNL",
        "colab": {
          "base_uri": "https://localhost:8080/"
        },
        "outputId": "bce688e4-50e7-44ad-c8c1-e6369525f323"
      },
      "outputs": [
        {
          "output_type": "stream",
          "name": "stdout",
          "text": [
            "Outcomes with RandomForestClassifier model with test set\n",
            "('Precision:', 0.8361514427494946, 'Recall: ', 0.9992312760817044, 'Accuracy:', 0.8378035520115984, 'F1:', 0.9104462677606563)\n"
          ]
        }
      ],
      "source": [
        "# calculate the predicted survival, with the TEST features (divided above)\n",
        "predicted_survival = prediction_model.predict(test_features)\n",
        "#function to print results with test set and prediction variable\n",
        "print(\"Outcomes with RandomForestClassifier model with test set\")\n",
        "print(getresults(test_labels,predicted_survival)) #need to have the labels here "
      ]
    },
    {
      "cell_type": "markdown",
      "metadata": {
        "id": "vjXv3J-aPt1L"
      },
      "source": [
        "After testing the model with the testing data set, it can be seen that there are a few errors present within the labelling of the outcome (alive or dead). It should be noted that this is a real data set, where 100% accuracy isn't always a given. "
      ]
    },
    {
      "cell_type": "markdown",
      "metadata": {
        "id": "RMSy8ZHvUVXQ"
      },
      "source": [
        "Show which covariate(s) contributes the most to the prediction (from one method is sufficient)"
      ]
    },
    {
      "cell_type": "code",
      "execution_count": 74,
      "metadata": {
        "id": "0BoGTFWF1hgb",
        "colab": {
          "base_uri": "https://localhost:8080/"
        },
        "outputId": "96c0f49d-3420-4cb7-ead1-50a0fad6e188"
      },
      "outputs": [
        {
          "output_type": "stream",
          "name": "stdout",
          "text": [
            "Random Forest feature importance, with test set\n",
            "USMER 0.0\n",
            "SEX 0.01\n",
            "PATIENT_TYPE 0.0\n",
            "INTUBED 0.2\n",
            "PNEUMONIA 0.02\n",
            "AGE 0.21\n",
            "PREGNANT 0.03\n",
            "DIABETES 0.0\n",
            "COPD 0.0\n",
            "ASTHMA 0.01\n",
            "INMSUPR 0.0\n",
            "HIPERTENSION 0.0\n",
            "OTHER_DISEASE 0.0\n",
            "CARDIOVASCULAR 0.0\n",
            "OBESITY 0.02\n",
            "RENAL_CHRONIC 0.0\n",
            "TOBACCO 0.0\n",
            "ICU 0.02\n",
            "MEDICAL_UNIT_0 0.01\n",
            "MEDICAL_UNIT_1 0.0\n",
            "MEDICAL_UNIT_3 0.46\n"
          ]
        }
      ],
      "source": [
        "#feature importance, done with TEST data set here\n",
        "print(\"Random Forest feature importance, with test set\")\n",
        "for f,fi in zip (test_features.columns, prediction_model.feature_importances_):\n",
        "  print (f, fi.round(2))"
      ]
    },
    {
      "cell_type": "code",
      "execution_count": 75,
      "metadata": {
        "id": "SicXNmfnZN27",
        "colab": {
          "base_uri": "https://localhost:8080/",
          "height": 887
        },
        "outputId": "a974959f-911a-4cfb-df33-812870e21b68"
      },
      "outputs": [
        {
          "output_type": "stream",
          "name": "stdout",
          "text": [
            "Random Forest feature importance\n",
            "USMER 0.0 +/- 0.0\n",
            "SEX 0.01 +/- 0.04\n",
            "PATIENT_TYPE 0.0 +/- 0.0\n",
            "INTUBED 0.2 +/- 0.24\n",
            "PNEUMONIA 0.02 +/- 0.03\n",
            "AGE 0.21 +/- 0.26\n",
            "PREGNANT 0.03 +/- 0.06\n",
            "DIABETES 0.0 +/- 0.01\n",
            "COPD 0.0 +/- 0.0\n",
            "ASTHMA 0.01 +/- 0.04\n",
            "INMSUPR 0.0 +/- 0.0\n",
            "HIPERTENSION 0.0 +/- 0.01\n",
            "OTHER_DISEASE 0.0 +/- 0.0\n",
            "CARDIOVASCULAR 0.0 +/- 0.0\n",
            "OBESITY 0.02 +/- 0.04\n",
            "RENAL_CHRONIC 0.0 +/- 0.0\n",
            "TOBACCO 0.0 +/- 0.02\n",
            "ICU 0.02 +/- 0.05\n",
            "MEDICAL_UNIT_0 0.01 +/- 0.05\n",
            "MEDICAL_UNIT_1 0.0 +/- 0.01\n",
            "MEDICAL_UNIT_3 0.46 +/- 0.35\n"
          ]
        },
        {
          "output_type": "display_data",
          "data": {
            "text/plain": [
              "<Figure size 720x576 with 1 Axes>"
            ],
            "image/png": "[encoded data removed]"
          },
          "metadata": {
            "needs_background": "light"
          }
        }
      ],
      "source": [
        "# Compare feature importance in the models above\n",
        "# use model.feature_importances_ to determine the importance of each feature\n",
        "# also create a plot with the variance of the feature importance in each of the estimators\n",
        "\n",
        "# Model 1 --> prediction_model\n",
        "# done with the train data set, larger, more interesting with the variance\n",
        "fistd = np.std([tree.feature_importances_ for tree in prediction_model.estimators_],\n",
        "             axis=0)\n",
        "\n",
        "print(\"Random Forest feature importance\")\n",
        "for f, fi, s in zip (train_features.columns, prediction_model.feature_importances_, fistd):\n",
        "  print (f, fi.round(2), \"+/-\", s.round(2))\n",
        "\n",
        "indices = np.argsort(prediction_model.feature_importances_)\n",
        "plt.figure(figsize= (10,8))\n",
        "plt.title(\"Feature importance\")\n",
        "plt.barh(np.arange(prediction_model.feature_importances_.shape[0]), \n",
        "        prediction_model.feature_importances_[indices],\n",
        "       xerr=fistd[indices], align=\"center\")\n",
        "plt.yticks(range(prediction_model.feature_importances_.shape[0]), \n",
        "          labels=train_features.columns[indices])\n",
        "plt.xlim(0, 1)\n",
        "plt.xlabel('Importance')\n",
        "plt.show()  "
      ]
    },
    {
      "cell_type": "markdown",
      "metadata": {
        "id": "MIbFVp6HPCS7"
      },
      "source": [
        "The initial machine learning was done (with these features: \"MEDICAL_UNIT\",\"SEX\",\"AGE\",\"PATIENT_TYPE\",\"INTUBED\",\"PNEUMONIA\",\"DIABETES\",\"CARDIOVASCULAR\", \"TOBACCO\",\"OBESITY\", \"RENAL_CHRONIC\", which resulted in an accuracy of 0.70. Most likley by adding more parameters the accruacy of the model could be further increased. \n",
        "\n",
        "\n",
        "\n",
        "This was done, and in this version the other parameters can be seen. By increasing the parameters the model becomes more and more accurate.\n",
        "This can be seen in this version of the code, here the accuracy has risen to 0.837 with the testing data set. This is because some parameters that were initially excluded have a high feature importance \n",
        "\n",
        "\n",
        "The main variable that influence the outcome, death, are medical unit, age and intubated. Followed by pregnancy, ICU and pneumonia. \n",
        "The accuracy between the testing and train is very similar (0.837 vs 0.838), which is good. This also indicated that most likley there isn't any overfitting."
      ]
    },
    {
      "cell_type": "markdown",
      "metadata": {
        "id": "3umT-biAiEn_"
      },
      "source": [
        "Grid-search CV, to optmise the hyperparameters of the model"
      ]
    },
    {
      "cell_type": "code",
      "execution_count": 76,
      "metadata": {
        "id": "tCZnxY_Ph8sd",
        "colab": {
          "base_uri": "https://localhost:8080/"
        },
        "outputId": "7bd9f589-5446-40a7-8d52-5d13efff605d"
      },
      "outputs": [
        {
          "output_type": "execute_result",
          "data": {
            "text/plain": [
              "GridSearchCV(cv=10, estimator=RandomForestClassifier(random_state=2021),\n",
              "             param_grid={'criterion': ['gini', 'entropy'],\n",
              "                         'max_depth': [3, 4, 5, 6, 8, None],\n",
              "                         'min_samples_split': [2, 3, 4]},\n",
              "             scoring='accuracy')"
            ]
          },
          "metadata": {},
          "execution_count": 76
        }
      ],
      "source": [
        "from sklearn.model_selection import GridSearchCV\n",
        "\n",
        "# determine the classifier and basic parameters of the classifier\n",
        "grid_cv =  RandomForestClassifier(random_state=2021)\n",
        "\n",
        "# decide the hyperparameters to be tested\n",
        "min_samples_split = [2,3,4]                                      \n",
        "max_depth=[3,4,5,6,8, None]\n",
        "criterion= ['gini','entropy']\n",
        "parameters_rf=dict(min_samples_split=min_samples_split,criterion=criterion,max_depth=max_depth)\n",
        "\n",
        "#training random forest model with combinations of all hyperparameters above using GridSearchCV\n",
        "# GridSearchCV will find the hyperparameters that will give you the best predictions in cross validation according to the scoring method chosen\n",
        "\n",
        "gridrf=GridSearchCV(grid_cv,parameters_rf,cv=10, scoring = 'accuracy')\n",
        "gridrf.fit(train_features,train_labels)\n",
        "#gridrf.fit(train_df[ml_features],train_df['diagnosis'])"
      ]
    },
    {
      "cell_type": "code",
      "execution_count": 77,
      "metadata": {
        "id": "Vt_YmY1Yh-qj"
      },
      "outputs": [],
      "source": [
        "def examinebestmodel(model_name):\n",
        "    print(model_name.best_score_)\n",
        "    print(model_name.best_params_)\n",
        "    print(model_name.best_estimator_)"
      ]
    },
    {
      "cell_type": "code",
      "execution_count": 78,
      "metadata": {
        "id": "anbSW-yhGtYp",
        "colab": {
          "base_uri": "https://localhost:8080/"
        },
        "outputId": "2502fdb6-59b4-4923-af4d-1dc2bdcbe4ed"
      },
      "outputs": [
        {
          "output_type": "stream",
          "name": "stdout",
          "text": [
            "Search CV model parameters with random forest classifier\n",
            "0.8583985816754733\n",
            "{'criterion': 'gini', 'max_depth': 8, 'min_samples_split': 4}\n",
            "RandomForestClassifier(max_depth=8, min_samples_split=4, random_state=2021)\n"
          ]
        }
      ],
      "source": [
        "print(\"Search CV model parameters with random forest classifier\")\n",
        "examinebestmodel(gridrf)"
      ]
    },
    {
      "cell_type": "code",
      "execution_count": 79,
      "metadata": {
        "id": "ia26r2tUJxn1",
        "colab": {
          "base_uri": "https://localhost:8080/"
        },
        "outputId": "22b907a9-6b9e-42e6-fc9f-69092777d524"
      },
      "outputs": [
        {
          "output_type": "stream",
          "name": "stdout",
          "text": [
            "Outcomes with model, with parameters from grid search CV, with train set\n",
            "('Precision:', 0.8641741751370764, 'Recall: ', 0.9866378679162395, 'Accuracy:', 0.8610263690458211, 'F1:', 0.9213544604550193)\n"
          ]
        }
      ],
      "source": [
        "# various results for the model on TRAIN set\n",
        "train_prediction_cv_train=gridrf.best_estimator_.predict(train_features)\n",
        "print(\"Outcomes with model, with parameters from grid search CV, with train set\")\n",
        "print(getresults(train_labels,train_prediction_cv_train))"
      ]
    },
    {
      "cell_type": "code",
      "source": [
        "#confusion matrix for the optimised model with grid search CV with TRAIN data set\n",
        "from sklearn.metrics import ConfusionMatrixDisplay\n",
        "\n",
        "ConfusionMatrixDisplay.from_estimator(gridrf.best_estimator_,train_features,train_labels,cmap='inferno',values_format='g')\n",
        "plt.title(\"Confusion matrix S.CV, train data set\")\n",
        "plt.show()"
      ],
      "metadata": {
        "id": "GdYgj_iPQHal",
        "colab": {
          "base_uri": "https://localhost:8080/",
          "height": 295
        },
        "outputId": "dab938df-3552-4b88-ea6d-24888025a320"
      },
      "execution_count": 80,
      "outputs": [
        {
          "output_type": "display_data",
          "data": {
            "text/plain": [
              "<Figure size 432x288 with 2 Axes>"
            ],
            "image/png": "[encoded data removed]"
          },
          "metadata": {
            "needs_background": "light"
          }
        }
      ]
    },
    {
      "cell_type": "code",
      "execution_count": 81,
      "metadata": {
        "id": "T0QKqczXiCIO",
        "colab": {
          "base_uri": "https://localhost:8080/"
        },
        "outputId": "480d4d46-70db-4026-f65d-7fd741576c7e"
      },
      "outputs": [
        {
          "output_type": "stream",
          "name": "stdout",
          "text": [
            "Outcomes with model, with parameters from grid search CV, with test set\n",
            "('Precision:', 0.8595484117872177, 'Recall: ', 0.9866022402811333, 'Accuracy:', 0.8559260601667271, 'F1:', 0.9187033439001944)\n"
          ]
        }
      ],
      "source": [
        "# various results for the model on TEST set\n",
        "test_prediction_cv=gridrf.best_estimator_.predict(test_features)\n",
        "print(\"Outcomes with model, with parameters from grid search CV, with test set\")\n",
        "print(getresults(test_labels,test_prediction_cv))"
      ]
    },
    {
      "cell_type": "code",
      "execution_count": 82,
      "metadata": {
        "id": "vTpcjaFyiDur",
        "colab": {
          "base_uri": "https://localhost:8080/",
          "height": 295
        },
        "outputId": "3670d98a-bc57-473e-94ba-b415971cb288"
      },
      "outputs": [
        {
          "output_type": "display_data",
          "data": {
            "text/plain": [
              "<Figure size 432x288 with 2 Axes>"
            ],
            "image/png": "[encoded data removed]"
          },
          "metadata": {
            "needs_background": "light"
          }
        }
      ],
      "source": [
        "#confusion matrix for the optimised model with grid search CV with TEST data set\n",
        "from sklearn.metrics import ConfusionMatrixDisplay\n",
        "\n",
        "ConfusionMatrixDisplay.from_estimator(gridrf.best_estimator_,test_features,test_labels,cmap='inferno',values_format='g')\n",
        "plt.title(\"Confusion matrix S.CV, test data set\")\n",
        "plt.show()"
      ]
    },
    {
      "cell_type": "code",
      "execution_count": 83,
      "metadata": {
        "id": "0XjJR6RN4oCq",
        "colab": {
          "base_uri": "https://localhost:8080/"
        },
        "outputId": "0fba2f71-be50-4a89-c2ef-72c2be6bee3e"
      },
      "outputs": [
        {
          "output_type": "stream",
          "name": "stdout",
          "text": [
            "RandomForestClassifier_Grid_search_CV_report, with test data\n",
            "              precision    recall  f1-score   support\n",
            "\n",
            "           0       0.79      0.24      0.37      1930\n",
            "           1       0.86      0.99      0.92      9106\n",
            "\n",
            "    accuracy                           0.86     11036\n",
            "   macro avg       0.83      0.61      0.64     11036\n",
            "weighted avg       0.85      0.86      0.82     11036\n",
            "\n"
          ]
        }
      ],
      "source": [
        "from sklearn.metrics import classification_report\n",
        "report_CV = classification_report(test_labels, test_prediction_cv, output_dict = True)\n",
        "print(\"RandomForestClassifier_Grid_search_CV_report, with test data\")\n",
        "print(classification_report(test_labels, test_prediction_cv))\n",
        "\n",
        "# You can also save this report as a .csv file\n",
        "report_dataframe_CV = pd.DataFrame.from_dict(report_CV)\n",
        "report_dataframe_CV.to_csv('RandomForestClassifier_Grid_search_CV_report.csv')\n",
        "#report_dataframe_CV.to_csv(output_path + 'class-prediction-CV_report.csv') for euler"
      ]
    },
    {
      "cell_type": "code",
      "execution_count": 84,
      "metadata": {
        "id": "h797y8CDodsp",
        "colab": {
          "base_uri": "https://localhost:8080/",
          "height": 887
        },
        "outputId": "85d4fe09-e9d3-4e62-dd88-825c042eeb59"
      },
      "outputs": [
        {
          "output_type": "stream",
          "name": "stdout",
          "text": [
            "Random Forest feature importance\n",
            "USMER 0.01 +/- 0.0\n",
            "SEX 0.01 +/- 0.01\n",
            "PATIENT_TYPE 0.0 +/- 0.0\n",
            "INTUBED 0.19 +/- 0.06\n",
            "PNEUMONIA 0.02 +/- 0.01\n",
            "AGE 0.21 +/- 0.08\n",
            "PREGNANT 0.02 +/- 0.01\n",
            "DIABETES 0.0 +/- 0.0\n",
            "COPD 0.0 +/- 0.0\n",
            "ASTHMA 0.01 +/- 0.01\n",
            "INMSUPR 0.0 +/- 0.0\n",
            "HIPERTENSION 0.01 +/- 0.0\n",
            "OTHER_DISEASE 0.01 +/- 0.0\n",
            "CARDIOVASCULAR 0.0 +/- 0.0\n",
            "OBESITY 0.02 +/- 0.01\n",
            "RENAL_CHRONIC 0.01 +/- 0.01\n",
            "TOBACCO 0.01 +/- 0.01\n",
            "ICU 0.02 +/- 0.01\n",
            "MEDICAL_UNIT_0 0.01 +/- 0.01\n",
            "MEDICAL_UNIT_1 0.0 +/- 0.0\n",
            "MEDICAL_UNIT_3 0.44 +/- 0.12\n"
          ]
        },
        {
          "output_type": "display_data",
          "data": {
            "text/plain": [
              "<Figure size 720x576 with 1 Axes>"
            ],
            "image/png": "[encoded data removed]"
          },
          "metadata": {
            "needs_background": "light"
          }
        }
      ],
      "source": [
        "fistd = np.std([tree.feature_importances_ for tree in gridrf.best_estimator_],\n",
        "             axis=0)\n",
        "\n",
        "print(\"Random Forest feature importance\")\n",
        "for f, fi, s in zip (test_features.columns, gridrf.best_estimator_.feature_importances_, fistd):\n",
        "  print (f, fi.round(2), \"+/-\", s.round(2))\n",
        "\n",
        "indices = np.argsort(gridrf.best_estimator_.feature_importances_)\n",
        "plt.figure(figsize= (10,8))\n",
        "plt.title(\"Feature importance\")\n",
        "plt.barh(np.arange(gridrf.best_estimator_.feature_importances_.shape[0]), \n",
        "        gridrf.best_estimator_.feature_importances_[indices],\n",
        "       xerr=fistd[indices], align=\"center\")\n",
        "plt.yticks(range(gridrf.best_estimator_.feature_importances_.shape[0]), \n",
        "          labels=test_features.columns[indices])\n",
        "plt.xlim(0, 1)\n",
        "plt.xlabel('Importance')\n",
        "plt.show()  "
      ]
    },
    {
      "cell_type": "markdown",
      "metadata": {
        "id": "xBedZN1pQLd2"
      },
      "source": [
        "By optimising the parameters there is a slight change in accuracy in the test data set, from 0.837 to 0.855. Which is slightly better, this indicates that the initial hyperparameters were already pretty good. The first three features for importance are in the same order, however Pneumonia, obesity became more important in this model and pregnancy decreased\n",
        "\n",
        "One ways of increasing the accuarcy could be to have more variable such as genetics. \n"
      ]
    },
    {
      "cell_type": "markdown",
      "metadata": {
        "id": "H_N8FT54LPWK"
      },
      "source": [
        "K-NN "
      ]
    },
    {
      "cell_type": "code",
      "execution_count": 85,
      "metadata": {
        "id": "cHiayq3eLiMZ",
        "colab": {
          "base_uri": "https://localhost:8080/"
        },
        "outputId": "0cb708a1-456e-48ec-f80e-41bf30c68086"
      },
      "outputs": [
        {
          "output_type": "stream",
          "name": "stdout",
          "text": [
            "Fitting 10 folds for each of 48 candidates, totalling 480 fits\n"
          ]
        },
        {
          "output_type": "execute_result",
          "data": {
            "text/plain": [
              "GridSearchCV(cv=10, estimator=KNeighborsClassifier(),\n",
              "             param_grid={'algorithm': ['ball_tree', 'brute', 'auto', 'kd_tree'],\n",
              "                         'metric': ['manhattan', 'euclidean', 'chebyshev'],\n",
              "                         'n_neighbors': [3, 5, 9, 13]},\n",
              "             scoring='accuracy', verbose=1)"
            ]
          },
          "metadata": {},
          "execution_count": 85
        }
      ],
      "source": [
        "from sklearn.neighbors import KNeighborsClassifier\n",
        "\n",
        "knn = KNeighborsClassifier()\n",
        "neighbors=[3,5,9,13]\n",
        "metric=['manhattan','euclidean', 'chebyshev']\n",
        "algorithm=['ball_tree', 'brute','auto', 'kd_tree']\n",
        "parameters_knn=dict(n_neighbors=neighbors,metric=metric,algorithm=algorithm)\n",
        "\n",
        "#training KNN model, finding best params\n",
        "gridknn=GridSearchCV(knn,parameters_knn,cv=10,verbose=1, scoring = 'accuracy')\n",
        "gridknn.fit(train_features,train_labels)"
      ]
    },
    {
      "cell_type": "code",
      "execution_count": 86,
      "metadata": {
        "id": "wJx_TT3B3ahJ",
        "colab": {
          "base_uri": "https://localhost:8080/"
        },
        "outputId": "d9b1890a-63f3-4730-a89b-4244e4177f62"
      },
      "outputs": [
        {
          "output_type": "stream",
          "name": "stdout",
          "text": [
            "Search CV parameters with KNN model\n",
            "0.8435679292954639\n",
            "{'algorithm': 'brute', 'metric': 'manhattan', 'n_neighbors': 13}\n",
            "KNeighborsClassifier(algorithm='brute', metric='manhattan', n_neighbors=13)\n"
          ]
        }
      ],
      "source": [
        "print(\"Search CV parameters with KNN model\")\n",
        "examinebestmodel(gridknn)"
      ]
    },
    {
      "cell_type": "code",
      "execution_count": 87,
      "metadata": {
        "id": "I9AcFul0e5S3",
        "colab": {
          "base_uri": "https://localhost:8080/",
          "height": 295
        },
        "outputId": "09efcefc-021e-4c51-bbb7-75e5664106d4"
      },
      "outputs": [
        {
          "output_type": "display_data",
          "data": {
            "text/plain": [
              "<Figure size 432x288 with 2 Axes>"
            ],
            "image/png": "[encoded data removed]"
          },
          "metadata": {
            "needs_background": "light"
          }
        }
      ],
      "source": [
        "# confusion matrix with the TRAIN features \n",
        "ConfusionMatrixDisplay.from_estimator(gridknn.best_estimator_,train_features,train_labels,cmap='inferno',values_format='g')\n",
        "plt.title(\"Confusion matrix, train data set, KNN\")\n",
        "plt.show()"
      ]
    },
    {
      "cell_type": "code",
      "execution_count": 88,
      "metadata": {
        "id": "7G0S9TN33QmO",
        "colab": {
          "base_uri": "https://localhost:8080/"
        },
        "outputId": "6e363364-d7fa-4b91-ba6e-32ebc50ec21d"
      },
      "outputs": [
        {
          "output_type": "stream",
          "name": "stdout",
          "text": [
            "Outcomes with KNN Grid search CV model, on train set\n",
            "('Precision:', 0.85674808626878, 'Recall: ', 0.9874432566993704, 'Accuracy:', 0.8534146857160118, 'F1:', 0.917464582730999)\n"
          ]
        }
      ],
      "source": [
        "# calculate the predicted survival rate, with the TRAIN features \n",
        "predicted_survival_knn_train = gridknn.predict(train_features)\n",
        "#function to print results with TRAIN set and prediction variable\n",
        "print(\"Outcomes with KNN Grid search CV model, on train set\")\n",
        "print(getresults(train_labels,predicted_survival_knn_train)) #need to have the labels here "
      ]
    },
    {
      "cell_type": "code",
      "execution_count": 89,
      "metadata": {
        "id": "VKaEfaNIO4qk",
        "colab": {
          "base_uri": "https://localhost:8080/"
        },
        "outputId": "d28e51da-7f98-4575-e7e9-4eb1d3be9b0f"
      },
      "outputs": [
        {
          "output_type": "stream",
          "name": "stdout",
          "text": [
            "Outcomes with KNN Grid search CV model, on test set\n",
            "('Precision:', 0.8495877168040944, 'Recall: ', 0.98440588622886, 'Accuracy:', 0.8433309169989126, 'F1:', 0.9120415119295925)\n"
          ]
        }
      ],
      "source": [
        "#predicting on test set, after finding the optimal parameters from the CV optimisation \n",
        "test_prediction_knn=gridknn.best_estimator_.predict(test_features)\n",
        "print(\"Outcomes with KNN Grid search CV model, on test set\")\n",
        "print(getresults(test_labels,test_prediction_knn))"
      ]
    },
    {
      "cell_type": "code",
      "execution_count": 90,
      "metadata": {
        "id": "hn_HlEZrQgJg",
        "colab": {
          "base_uri": "https://localhost:8080/",
          "height": 295
        },
        "outputId": "b91a5222-57ca-4d5c-cd05-e3aed7c14715"
      },
      "outputs": [
        {
          "output_type": "display_data",
          "data": {
            "text/plain": [
              "<Figure size 432x288 with 2 Axes>"
            ],
            "image/png": "[encoded data removed]"
          },
          "metadata": {
            "needs_background": "light"
          }
        }
      ],
      "source": [
        "#confusion matrix for KNN on TEST set\n",
        "ConfusionMatrixDisplay.from_estimator(gridknn.best_estimator_,test_features,test_labels,cmap='inferno',values_format='g')\n",
        "plt.title(\"Confusion matrix, test data set, KNN\")\n",
        "plt.show()"
      ]
    },
    {
      "cell_type": "code",
      "execution_count": 91,
      "metadata": {
        "id": "vnZE2HO35yQL",
        "colab": {
          "base_uri": "https://localhost:8080/"
        },
        "outputId": "5452bd00-bbfd-42bb-adff-b83e8da44cca"
      },
      "outputs": [
        {
          "output_type": "stream",
          "name": "stdout",
          "text": [
            "Outcomes with KNN Grid search CV model, on test set\n",
            "              precision    recall  f1-score   support\n",
            "\n",
            "           0       0.71      0.18      0.28      1930\n",
            "           1       0.85      0.98      0.91      9106\n",
            "\n",
            "    accuracy                           0.84     11036\n",
            "   macro avg       0.78      0.58      0.60     11036\n",
            "weighted avg       0.82      0.84      0.80     11036\n",
            "\n"
          ]
        }
      ],
      "source": [
        "report_CV = classification_report(test_labels, test_prediction_knn, output_dict = True)\n",
        "print(\"Outcomes with KNN Grid search CV model, on test set\")\n",
        "print(classification_report(test_labels, test_prediction_knn))\n",
        "\n",
        "# You can also save this report as a .csv file\n",
        "report_dataframe_CV = pd.DataFrame.from_dict(report_CV)\n",
        "report_dataframe_CV.to_csv('class-prediction_Grid_search_cv_KNN_report.csv')"
      ]
    },
    {
      "cell_type": "markdown",
      "metadata": {
        "id": "o0fr_xXLNhad"
      },
      "source": [
        "With the KNN model the accuracy is slightly worse than with the random forest classifier (0.84 vs 0.85 with the same test data set).\n",
        "Here the hyperparameters are already optimised as the model was created with seach CV. As mentioned above, this is real world data were it isn't always so eays to predict with high accuracy scores the outcome of the patient.\n",
        "It would be interesting to add more predictors for the death outcome, such as genetic factors (might have stronger correlations)."
      ]
    }
  ],
  "metadata": {
    "colab": {
      "provenance": [],
      "include_colab_link": true
    },
    "kernelspec": {
      "display_name": "Python 3",
      "name": "python3"
    },
    "language_info": {
      "name": "python"
    }
  },
  "nbformat": 4,
  "nbformat_minor": 0
}